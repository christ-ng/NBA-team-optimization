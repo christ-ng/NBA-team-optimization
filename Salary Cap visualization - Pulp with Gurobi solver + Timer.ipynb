{
 "cells": [
  {
   "cell_type": "code",
   "execution_count": 1,
   "metadata": {},
   "outputs": [
    {
     "name": "stdout",
     "output_type": "stream",
     "text": [
      "Using license file C:\\Users\\Sophie\\gurobi.lic\n",
      "Academic license - for non-commercial use only - expires 2021-01-01\n",
      "No parameters matching '_test' found\n"
     ]
    }
   ],
   "source": [
    "import numpy as np\n",
    "import pulp as plp\n",
    "import pandas as pd \n",
    "from pulp import *\n",
    "from timeit import default_timer as timer\n",
    "df = pd.read_csv (r\"C:\\Users\\Sophie\\Downloads\\players.csv\")\n",
    "df['Salary'] = df['Salary']/1000000"
   ]
  },
  {
   "cell_type": "code",
   "execution_count": 2,
   "metadata": {},
   "outputs": [],
   "source": [
    "##### Expected Salary\n",
    "E_S = []\n",
    "\n",
    "players = range(len(df))\n",
    "I = players\n",
    "\n",
    "for i in I:\n",
    "    PER = df.iloc[i, 11]\n",
    "    age = df.iloc[i, 6]\n",
    "    WS = df.iloc[i, 25]\n",
    "    eFG = df.iloc[i, 40]\n",
    "    \n",
    "    Estimated_salary = -0.0394 + 0.2787*PER + 0.0269*age + 1.1325*WS + -0.0229*eFG\n",
    "    E_S.append(Estimated_salary) #estimated salary column is added\n",
    "\n",
    "df2 = df.assign(ES = E_S)\n",
    "df2 #new dataframe\n",
    "\n",
    "\n",
    "##### Expected win shares\n",
    "E_W = []\n",
    "\n",
    "for i in I:\n",
    "    WS = df.iloc[i, 26] #WS/48 variable in dataset\n",
    "    MP = df.iloc[i, 10] #MP variable in dataset\n",
    "    \n",
    "    expected_wins = (MP/2)*(WS/48)*MP*(1 - (1- 1/MP)*(1- 1/MP)) #EW formula from Gurobi\n",
    "    E_W.append(expected_wins)\n",
    "\n",
    "df3 = df2.assign(EW = E_W)\n",
    "\n",
    "\n",
    "###### player position matrix\n",
    "\n",
    "BB2 = df3[['ID', 'Player Name', 'Pos', 'Salary', 'PER', 'ES', 'WS', 'G', 'EW', 'GS', 'MP']]\n",
    "\n",
    "players_POS = BB2.assign(PG = [1 if a == 'PG' else 0 for a in BB2['Pos']])\n",
    "players_POS = players_POS.assign(SG = [1 if a == 'SG' else 0 for a in players_POS['Pos']])\n",
    "players_POS = players_POS.assign(SF = [1 if a == 'SF' else 0 for a in players_POS['Pos']])\n",
    "players_POS = players_POS.assign(PF = [1 if a == 'PF' else 0 for a in players_POS['Pos']])\n",
    "players_POS = players_POS.assign(C = [1 if a == 'C' else 0 for a in players_POS['Pos']])\n",
    "\n",
    "\n",
    "#### Starting players\n",
    "players_POS['GS_GP'] = players_POS.GS / players_POS.G\n",
    "top_starting = players_POS['GS_GP'].quantile(0.8) ## this means players that start 100% of their games\n",
    "\n",
    "players_POS = players_POS.assign(Start_P = [1 if a >= top_starting else 0 for a in players_POS['GS_GP']] )\n",
    " "
   ]
  },
  {
   "cell_type": "code",
   "execution_count": 3,
   "metadata": {},
   "outputs": [
    {
     "name": "stdout",
     "output_type": "stream",
     "text": [
      "Changed value of parameter TimeLimit to 1.0\n",
      "   Prev: inf  Min: 0.0  Max: inf  Default: inf\n",
      "Gurobi Optimizer version 9.1.0 build v9.1.0rc0 (win64)\n",
      "Thread count: 4 physical cores, 8 logical processors, using up to 8 threads\n",
      "Optimize a model with 14 rows, 394 columns and 1598 nonzeros\n",
      "Model fingerprint: 0xc78ba04c\n",
      "Variable types: 0 continuous, 394 integer (0 binary)\n",
      "Coefficient statistics:\n",
      "  Matrix range     [2e-02, 8e+01]\n",
      "  Objective range  [5e+00, 4e+01]\n",
      "  Bounds range     [1e+00, 1e+00]\n",
      "  RHS range        [1e+00, 4e+02]\n",
      "Found heuristic solution: objective 239.7385312\n",
      "Presolve removed 2 rows and 168 columns\n",
      "Presolve time: 0.02s\n",
      "Presolved: 12 rows, 226 columns, 637 nonzeros\n",
      "Found heuristic solution: objective 413.7987917\n",
      "Variable types: 0 continuous, 226 integer (226 binary)\n",
      "\n",
      "Root relaxation: objective 4.424175e+02, 30 iterations, 0.00 seconds\n",
      "\n",
      "    Nodes    |    Current Node    |     Objective Bounds      |     Work\n",
      " Expl Unexpl |  Obj  Depth IntInf | Incumbent    BestBd   Gap | It/Node Time\n",
      "\n",
      "     0     0  442.41746    0    2  413.79879  442.41746  6.92%     -    0s\n",
      "H    0     0                     430.1641875  442.41746  2.85%     -    0s\n",
      "H    0     0                     439.8227292  442.41746  0.59%     -    0s\n",
      "\n",
      "Cutting planes:\n",
      "  Cover: 1\n",
      "  GUB cover: 1\n",
      "\n",
      "Explored 1 nodes (30 simplex iterations) in 0.11 seconds\n",
      "Thread count was 8 (of 8 available processors)\n",
      "\n",
      "Solution count 4: 439.823 430.164 413.799 239.739 \n",
      "\n",
      "Optimal solution found (tolerance 1.00e-04)\n",
      "Best objective 4.398227291667e+02, best bound 4.398227291667e+02, gap 0.0000%\n"
     ]
    },
    {
     "name": "stderr",
     "output_type": "stream",
     "text": [
      "C:\\Users\\Sophie\\anaconda3\\lib\\site-packages\\pulp\\pulp.py:1521: UserWarning: Overwriting previously set objective.\n",
      "  warnings.warn(\"Overwriting previously set objective.\")\n"
     ]
    },
    {
     "name": "stdout",
     "output_type": "stream",
     "text": [
      "Gurobi status= 2\n",
      "Changed value of parameter TimeLimit to 1.0\n",
      "   Prev: inf  Min: 0.0  Max: inf  Default: inf\n",
      "Gurobi Optimizer version 9.1.0 build v9.1.0rc0 (win64)\n",
      "Thread count: 4 physical cores, 8 logical processors, using up to 8 threads\n",
      "Optimize a model with 14 rows, 394 columns and 1598 nonzeros\n",
      "Model fingerprint: 0x6f8121a9\n",
      "Variable types: 0 continuous, 394 integer (0 binary)\n",
      "Coefficient statistics:\n",
      "  Matrix range     [2e-02, 8e+01]\n",
      "  Objective range  [5e+00, 4e+01]\n",
      "  Bounds range     [1e+00, 1e+00]\n",
      "  RHS range        [1e+00, 4e+02]\n",
      "Found heuristic solution: objective 239.7385312\n",
      "Presolve removed 2 rows and 168 columns\n",
      "Presolve time: 0.00s\n",
      "Presolved: 12 rows, 226 columns, 637 nonzeros\n",
      "Found heuristic solution: objective 413.7987917\n",
      "Variable types: 0 continuous, 226 integer (226 binary)\n",
      "\n",
      "Root relaxation: objective 4.422669e+02, 23 iterations, 0.00 seconds\n",
      "\n",
      "    Nodes    |    Current Node    |     Objective Bounds      |     Work\n",
      " Expl Unexpl |  Obj  Depth IntInf | Incumbent    BestBd   Gap | It/Node Time\n",
      "\n",
      "     0     0  442.26692    0    4  413.79879  442.26692  6.88%     -    0s\n",
      "H    0     0                     430.1641875  442.26692  2.81%     -    0s\n",
      "H    0     0                     437.8882292  442.26692  1.00%     -    0s\n",
      "H    0     0                     438.2701771  442.26692  0.91%     -    0s\n",
      "     0     0  439.22733    0    6  438.27018  439.22733  0.22%     -    0s\n",
      "     0     0  439.22733    0    5  438.27018  439.22733  0.22%     -    0s\n",
      "     0     0  438.27018    0    2  438.27018  438.27018  0.00%     -    0s\n",
      "\n",
      "Cutting planes:\n",
      "  Cover: 2\n",
      "  StrongCG: 1\n",
      "\n",
      "Explored 1 nodes (37 simplex iterations) in 0.05 seconds\n",
      "Thread count was 8 (of 8 available processors)\n",
      "\n",
      "Solution count 5: 438.27 437.888 430.164 ... 239.739\n",
      "\n",
      "Optimal solution found (tolerance 1.00e-04)\n",
      "Best objective 4.382701770833e+02, best bound 4.382701770833e+02, gap 0.0000%\n",
      "Gurobi status= 2\n",
      "Changed value of parameter TimeLimit to 1.0\n",
      "   Prev: inf  Min: 0.0  Max: inf  Default: inf\n",
      "Gurobi Optimizer version 9.1.0 build v9.1.0rc0 (win64)\n",
      "Thread count: 4 physical cores, 8 logical processors, using up to 8 threads\n",
      "Optimize a model with 14 rows, 394 columns and 1598 nonzeros\n",
      "Model fingerprint: 0xd8febd17\n",
      "Variable types: 0 continuous, 394 integer (0 binary)\n",
      "Coefficient statistics:\n",
      "  Matrix range     [2e-02, 8e+01]\n",
      "  Objective range  [5e+00, 4e+01]\n",
      "  Bounds range     [1e+00, 1e+00]\n",
      "  RHS range        [1e+00, 4e+02]\n",
      "Found heuristic solution: objective 239.7385312\n",
      "Presolve removed 2 rows and 168 columns\n",
      "Presolve time: 0.00s\n",
      "Presolved: 12 rows, 226 columns, 637 nonzeros\n",
      "Found heuristic solution: objective 413.7987917\n",
      "Variable types: 0 continuous, 226 integer (226 binary)\n",
      "\n",
      "Root relaxation: objective 4.419212e+02, 25 iterations, 0.00 seconds\n",
      "\n",
      "    Nodes    |    Current Node    |     Objective Bounds      |     Work\n",
      " Expl Unexpl |  Obj  Depth IntInf | Incumbent    BestBd   Gap | It/Node Time\n",
      "\n",
      "     0     0  441.92116    0    4  413.79879  441.92116  6.80%     -    0s\n",
      "H    0     0                     429.1844896  441.92116  2.97%     -    0s\n",
      "H    0     0                     434.7838437  441.92116  1.64%     -    0s\n",
      "H    0     0                     438.1118333  441.92116  0.87%     -    0s\n",
      "     0     0  439.33156    0    6  438.11183  439.33156  0.28%     -    0s\n",
      "     0     0  439.33156    0    4  438.11183  439.33156  0.28%     -    0s\n",
      "     0     0  438.11183    0    7  438.11183  438.11183  0.00%     -    0s\n",
      "\n",
      "Cutting planes:\n",
      "  Gomory: 1\n",
      "  Cover: 1\n",
      "  StrongCG: 1\n",
      "  Mod-K: 3\n",
      "\n",
      "Explored 1 nodes (39 simplex iterations) in 0.04 seconds\n",
      "Thread count was 8 (of 8 available processors)\n",
      "\n",
      "Solution count 5: 438.112 434.784 429.184 ... 239.739\n",
      "\n",
      "Optimal solution found (tolerance 1.00e-04)\n",
      "Best objective 4.381118333333e+02, best bound 4.381118333333e+02, gap 0.0000%\n",
      "Gurobi status= 2\n",
      "Changed value of parameter TimeLimit to 1.0\n",
      "   Prev: inf  Min: 0.0  Max: inf  Default: inf\n",
      "Gurobi Optimizer version 9.1.0 build v9.1.0rc0 (win64)\n",
      "Thread count: 4 physical cores, 8 logical processors, using up to 8 threads\n",
      "Optimize a model with 14 rows, 394 columns and 1598 nonzeros\n",
      "Model fingerprint: 0xca2840f9\n",
      "Variable types: 0 continuous, 394 integer (0 binary)\n",
      "Coefficient statistics:\n",
      "  Matrix range     [2e-02, 8e+01]\n",
      "  Objective range  [5e+00, 4e+01]\n",
      "  Bounds range     [1e+00, 1e+00]\n",
      "  RHS range        [1e+00, 4e+02]\n",
      "Found heuristic solution: objective 239.7385312\n",
      "Presolve removed 2 rows and 168 columns\n",
      "Presolve time: 0.00s\n",
      "Presolved: 12 rows, 226 columns, 637 nonzeros\n",
      "Found heuristic solution: objective 413.7987917\n",
      "Variable types: 0 continuous, 226 integer (226 binary)\n",
      "\n",
      "Root relaxation: objective 4.409214e+02, 21 iterations, 0.00 seconds\n",
      "\n",
      "    Nodes    |    Current Node    |     Objective Bounds      |     Work\n",
      " Expl Unexpl |  Obj  Depth IntInf | Incumbent    BestBd   Gap | It/Node Time\n",
      "\n",
      "     0     0  440.92140    0    4  413.79879  440.92140  6.55%     -    0s\n",
      "H    0     0                     429.1844896  440.92140  2.73%     -    0s\n",
      "H    0     0                     432.8230729  440.92140  1.87%     -    0s\n",
      "H    0     0                     437.8613542  440.92140  0.70%     -    0s\n",
      "     0     0  438.99676    0    6  437.86135  438.99676  0.26%     -    0s\n",
      "     0     0  438.99676    0    4  437.86135  438.99676  0.26%     -    0s\n",
      "     0     0  438.99676    0    6  437.86135  438.99676  0.26%     -    0s\n",
      "     0     0  438.99676    0    8  437.86135  438.99676  0.26%     -    0s\n",
      "\n",
      "Cutting planes:\n",
      "  Gomory: 1\n",
      "  Cover: 1\n",
      "  GUB cover: 2\n",
      "  Inf proof: 1\n",
      "  Mod-K: 1\n",
      "\n",
      "Explored 1 nodes (31 simplex iterations) in 0.06 seconds\n",
      "Thread count was 8 (of 8 available processors)\n",
      "\n",
      "Solution count 5: 437.861 432.823 429.184 ... 239.739\n",
      "\n",
      "Optimal solution found (tolerance 1.00e-04)\n",
      "Best objective 4.378613541667e+02, best bound 4.378613541667e+02, gap 0.0000%\n",
      "Gurobi status= 2\n",
      "Changed value of parameter TimeLimit to 1.0\n",
      "   Prev: inf  Min: 0.0  Max: inf  Default: inf\n",
      "Gurobi Optimizer version 9.1.0 build v9.1.0rc0 (win64)\n",
      "Thread count: 4 physical cores, 8 logical processors, using up to 8 threads\n",
      "Optimize a model with 14 rows, 394 columns and 1598 nonzeros\n",
      "Model fingerprint: 0x96d63da7\n",
      "Variable types: 0 continuous, 394 integer (0 binary)\n",
      "Coefficient statistics:\n",
      "  Matrix range     [2e-02, 8e+01]\n",
      "  Objective range  [5e+00, 4e+01]\n",
      "  Bounds range     [1e+00, 1e+00]\n",
      "  RHS range        [1e+00, 4e+02]\n",
      "Found heuristic solution: objective 239.7385312\n",
      "Presolve removed 2 rows and 168 columns\n",
      "Presolve time: 0.00s\n",
      "Presolved: 12 rows, 226 columns, 637 nonzeros\n",
      "Found heuristic solution: objective 413.7987917\n",
      "Variable types: 0 continuous, 226 integer (226 binary)\n",
      "\n",
      "Root relaxation: objective 4.399216e+02, 29 iterations, 0.00 seconds\n",
      "\n",
      "    Nodes    |    Current Node    |     Objective Bounds      |     Work\n",
      " Expl Unexpl |  Obj  Depth IntInf | Incumbent    BestBd   Gap | It/Node Time\n",
      "\n",
      "     0     0  439.92164    0    4  413.79879  439.92164  6.31%     -    0s\n",
      "H    0     0                     433.4390938  439.92164  1.50%     -    0s\n",
      "H    0     0                     435.5010000  439.92164  1.02%     -    0s\n",
      "H    0     0                     437.8613542  439.92164  0.47%     -    0s\n",
      "\n",
      "Cutting planes:\n",
      "  Cover: 1\n",
      "  MIR: 1\n",
      "  GUB cover: 1\n",
      "\n",
      "Explored 1 nodes (29 simplex iterations) in 0.03 seconds\n",
      "Thread count was 8 (of 8 available processors)\n",
      "\n",
      "Solution count 5: 437.861 435.501 433.439 ... 239.739\n",
      "\n",
      "Optimal solution found (tolerance 1.00e-04)\n",
      "Best objective 4.378613541667e+02, best bound 4.378613541667e+02, gap 0.0000%\n",
      "Gurobi status= 2\n",
      "Changed value of parameter TimeLimit to 1.0\n",
      "   Prev: inf  Min: 0.0  Max: inf  Default: inf\n",
      "Gurobi Optimizer version 9.1.0 build v9.1.0rc0 (win64)\n",
      "Thread count: 4 physical cores, 8 logical processors, using up to 8 threads\n",
      "Optimize a model with 14 rows, 394 columns and 1598 nonzeros\n",
      "Model fingerprint: 0x0465bcb9\n",
      "Variable types: 0 continuous, 394 integer (0 binary)\n",
      "Coefficient statistics:\n",
      "  Matrix range     [2e-02, 8e+01]\n",
      "  Objective range  [5e+00, 4e+01]\n",
      "  Bounds range     [1e+00, 1e+00]\n",
      "  RHS range        [1e+00, 4e+02]\n",
      "Found heuristic solution: objective 239.7385312\n",
      "Presolve removed 2 rows and 168 columns\n",
      "Presolve time: 0.00s\n",
      "Presolved: 12 rows, 226 columns, 637 nonzeros\n",
      "Found heuristic solution: objective 413.7987917\n",
      "Variable types: 0 continuous, 226 integer (226 binary)\n"
     ]
    },
    {
     "name": "stdout",
     "output_type": "stream",
     "text": [
      "\n",
      "Root relaxation: objective 4.389219e+02, 28 iterations, 0.00 seconds\n",
      "\n",
      "    Nodes    |    Current Node    |     Objective Bounds      |     Work\n",
      " Expl Unexpl |  Obj  Depth IntInf | Incumbent    BestBd   Gap | It/Node Time\n",
      "\n",
      "     0     0  438.92188    0    4  413.79879  438.92188  6.07%     -    0s\n",
      "H    0     0                     429.3741771  438.92188  2.22%     -    0s\n",
      "H    0     0                     435.5010000  438.92188  0.79%     -    0s\n",
      "H    0     0                     437.8613542  438.92188  0.24%     -    0s\n",
      "\n",
      "Cutting planes:\n",
      "  GUB cover: 1\n",
      "\n",
      "Explored 1 nodes (28 simplex iterations) in 0.03 seconds\n",
      "Thread count was 8 (of 8 available processors)\n",
      "\n",
      "Solution count 5: 437.861 435.501 429.374 ... 239.739\n",
      "\n",
      "Optimal solution found (tolerance 1.00e-04)\n",
      "Best objective 4.378613541667e+02, best bound 4.378613541667e+02, gap 0.0000%\n",
      "Gurobi status= 2\n",
      "Changed value of parameter TimeLimit to 1.0\n",
      "   Prev: inf  Min: 0.0  Max: inf  Default: inf\n",
      "Gurobi Optimizer version 9.1.0 build v9.1.0rc0 (win64)\n",
      "Thread count: 4 physical cores, 8 logical processors, using up to 8 threads\n",
      "Optimize a model with 14 rows, 394 columns and 1598 nonzeros\n",
      "Model fingerprint: 0x8a3c5564\n",
      "Variable types: 0 continuous, 394 integer (0 binary)\n",
      "Coefficient statistics:\n",
      "  Matrix range     [2e-02, 8e+01]\n",
      "  Objective range  [5e+00, 4e+01]\n",
      "  Bounds range     [1e+00, 1e+00]\n",
      "  RHS range        [1e+00, 4e+02]\n",
      "Found heuristic solution: objective 239.7385312\n",
      "Presolve removed 2 rows and 168 columns\n",
      "Presolve time: 0.00s\n",
      "Presolved: 12 rows, 226 columns, 637 nonzeros\n",
      "Found heuristic solution: objective 413.7987917\n",
      "Variable types: 0 continuous, 226 integer (226 binary)\n",
      "\n",
      "Root relaxation: objective 4.378217e+02, 31 iterations, 0.00 seconds\n",
      "\n",
      "    Nodes    |    Current Node    |     Objective Bounds      |     Work\n",
      " Expl Unexpl |  Obj  Depth IntInf | Incumbent    BestBd   Gap | It/Node Time\n",
      "\n",
      "     0     0  437.82173    0    4  413.79879  437.82173  5.81%     -    0s\n",
      "H    0     0                     433.5220729  437.82173  0.99%     -    0s\n",
      "H    0     0                     435.0746250  437.82173  0.63%     -    0s\n",
      "H    0     0                     435.5010000  437.41577  0.44%     -    0s\n",
      "     0     0  437.38118    0    6  435.50100  437.38118  0.43%     -    0s\n",
      "     0     0  437.38118    0    4  435.50100  437.38118  0.43%     -    0s\n",
      "H    0     0                     435.9268542  437.38118  0.33%     -    0s\n",
      "     0     0  435.92685    0    6  435.92685  435.92685  0.00%     -    0s\n",
      "\n",
      "Cutting planes:\n",
      "  Clique: 1\n",
      "\n",
      "Explored 1 nodes (42 simplex iterations) in 0.04 seconds\n",
      "Thread count was 8 (of 8 available processors)\n",
      "\n",
      "Solution count 6: 435.927 435.501 435.075 ... 239.739\n",
      "\n",
      "Optimal solution found (tolerance 1.00e-04)\n",
      "Best objective 4.359268541667e+02, best bound 4.359268541667e+02, gap 0.0000%\n",
      "Gurobi status= 2\n",
      "Changed value of parameter TimeLimit to 1.0\n",
      "   Prev: inf  Min: 0.0  Max: inf  Default: inf\n",
      "Gurobi Optimizer version 9.1.0 build v9.1.0rc0 (win64)\n",
      "Thread count: 4 physical cores, 8 logical processors, using up to 8 threads\n",
      "Optimize a model with 14 rows, 394 columns and 1598 nonzeros\n",
      "Model fingerprint: 0xf280f985\n",
      "Variable types: 0 continuous, 394 integer (0 binary)\n",
      "Coefficient statistics:\n",
      "  Matrix range     [2e-02, 8e+01]\n",
      "  Objective range  [5e+00, 4e+01]\n",
      "  Bounds range     [1e+00, 1e+00]\n",
      "  RHS range        [1e+00, 4e+02]\n",
      "Found heuristic solution: objective 239.7385312\n",
      "Presolve removed 2 rows and 168 columns\n",
      "Presolve time: 0.00s\n",
      "Presolved: 12 rows, 226 columns, 637 nonzeros\n",
      "Found heuristic solution: objective 413.7987917\n",
      "Variable types: 0 continuous, 226 integer (226 binary)\n",
      "\n",
      "Root relaxation: objective 4.366740e+02, 22 iterations, 0.00 seconds\n",
      "\n",
      "    Nodes    |    Current Node    |     Objective Bounds      |     Work\n",
      " Expl Unexpl |  Obj  Depth IntInf | Incumbent    BestBd   Gap | It/Node Time\n",
      "\n",
      "     0     0  436.67396    0    4  413.79879  436.67396  5.53%     -    0s\n",
      "H    0     0                     433.5220729  436.67396  0.73%     -    0s\n",
      "     0     0  435.45764    0    8  433.52207  435.45764  0.45%     -    0s\n",
      "     0     0  435.45764    0    4  433.52207  435.45764  0.45%     -    0s\n",
      "     0     0  435.45764    0    6  433.52207  435.45764  0.45%     -    0s\n",
      "     0     0  434.93697    0    7  433.52207  434.93697  0.33%     -    0s\n",
      "\n",
      "Cutting planes:\n",
      "  Gomory: 1\n",
      "  Cover: 1\n",
      "  StrongCG: 1\n",
      "  RLT: 1\n",
      "\n",
      "Explored 1 nodes (44 simplex iterations) in 0.04 seconds\n",
      "Thread count was 8 (of 8 available processors)\n",
      "\n",
      "Solution count 3: 433.522 413.799 239.739 \n",
      "\n",
      "Optimal solution found (tolerance 1.00e-04)\n",
      "Best objective 4.335220729167e+02, best bound 4.335220729167e+02, gap 0.0000%\n",
      "Gurobi status= 2\n",
      "Changed value of parameter TimeLimit to 1.0\n",
      "   Prev: inf  Min: 0.0  Max: inf  Default: inf\n",
      "Gurobi Optimizer version 9.1.0 build v9.1.0rc0 (win64)\n",
      "Thread count: 4 physical cores, 8 logical processors, using up to 8 threads\n",
      "Optimize a model with 14 rows, 394 columns and 1598 nonzeros\n",
      "Model fingerprint: 0x0bed2184\n",
      "Variable types: 0 continuous, 394 integer (0 binary)\n",
      "Coefficient statistics:\n",
      "  Matrix range     [2e-02, 8e+01]\n",
      "  Objective range  [5e+00, 4e+01]\n",
      "  Bounds range     [1e+00, 1e+00]\n",
      "  RHS range        [1e+00, 4e+02]\n",
      "Found heuristic solution: objective 239.7385312\n",
      "Presolve removed 2 rows and 168 columns\n",
      "Presolve time: 0.00s\n",
      "Presolved: 12 rows, 226 columns, 637 nonzeros\n",
      "Found heuristic solution: objective 412.3754063\n",
      "Variable types: 0 continuous, 226 integer (226 binary)\n",
      "\n",
      "Root relaxation: objective 4.352737e+02, 29 iterations, 0.00 seconds\n",
      "\n",
      "    Nodes    |    Current Node    |     Objective Bounds      |     Work\n",
      " Expl Unexpl |  Obj  Depth IntInf | Incumbent    BestBd   Gap | It/Node Time\n",
      "\n",
      "     0     0  435.27375    0    4  412.37541  435.27375  5.55%     -    0s\n",
      "H    0     0                     433.2626354  435.27375  0.46%     -    0s\n",
      "\n",
      "Cutting planes:\n",
      "  Cover: 2\n",
      "  GUB cover: 1\n",
      "\n",
      "Explored 1 nodes (29 simplex iterations) in 0.03 seconds\n",
      "Thread count was 8 (of 8 available processors)\n",
      "\n",
      "Solution count 3: 433.263 412.375 239.739 \n",
      "\n",
      "Optimal solution found (tolerance 1.00e-04)\n",
      "Best objective 4.332626354167e+02, best bound 4.332626354167e+02, gap 0.0000%\n",
      "Gurobi status= 2\n",
      "Changed value of parameter TimeLimit to 1.0\n",
      "   Prev: inf  Min: 0.0  Max: inf  Default: inf\n",
      "Gurobi Optimizer version 9.1.0 build v9.1.0rc0 (win64)\n",
      "Thread count: 4 physical cores, 8 logical processors, using up to 8 threads\n",
      "Optimize a model with 14 rows, 394 columns and 1598 nonzeros\n",
      "Model fingerprint: 0x3502e138\n",
      "Variable types: 0 continuous, 394 integer (0 binary)\n",
      "Coefficient statistics:\n",
      "  Matrix range     [2e-02, 8e+01]\n",
      "  Objective range  [5e+00, 4e+01]\n",
      "  Bounds range     [1e+00, 1e+00]\n",
      "  RHS range        [1e+00, 4e+02]\n",
      "Found heuristic solution: objective 239.7385312\n",
      "Presolve removed 2 rows and 168 columns\n",
      "Presolve time: 0.00s\n",
      "Presolved: 12 rows, 226 columns, 637 nonzeros\n",
      "Found heuristic solution: objective 412.0566667\n",
      "Variable types: 0 continuous, 226 integer (226 binary)\n",
      "\n",
      "Root relaxation: objective 4.337760e+02, 27 iterations, 0.00 seconds\n",
      "\n",
      "    Nodes    |    Current Node    |     Objective Bounds      |     Work\n",
      " Expl Unexpl |  Obj  Depth IntInf | Incumbent    BestBd   Gap | It/Node Time\n",
      "\n",
      "     0     0  433.77605    0    4  412.05667  433.77605  5.27%     -    0s\n",
      "H    0     0                     422.9600104  433.77605  2.56%     -    0s\n",
      "H    0     0                     430.3221979  433.77605  0.80%     -    0s\n",
      "H    0     0                     431.3281354  433.77605  0.57%     -    0s\n",
      "\n",
      "Cutting planes:\n",
      "  Cover: 1\n",
      "  GUB cover: 1\n",
      "  Inf proof: 1\n",
      "  RLT: 1\n",
      "\n",
      "Explored 1 nodes (27 simplex iterations) in 0.04 seconds\n",
      "Thread count was 8 (of 8 available processors)\n",
      "\n",
      "Solution count 5: 431.328 430.322 422.96 ... 239.739\n",
      "\n",
      "Optimal solution found (tolerance 1.00e-04)\n",
      "Best objective 4.313281354167e+02, best bound 4.313281354167e+02, gap 0.0000%\n",
      "Gurobi status= 2\n",
      "Changed value of parameter TimeLimit to 1.0\n",
      "   Prev: inf  Min: 0.0  Max: inf  Default: inf\n",
      "Gurobi Optimizer version 9.1.0 build v9.1.0rc0 (win64)\n",
      "Thread count: 4 physical cores, 8 logical processors, using up to 8 threads\n",
      "Optimize a model with 14 rows, 394 columns and 1598 nonzeros\n",
      "Model fingerprint: 0x3ff1f71b\n",
      "Variable types: 0 continuous, 394 integer (0 binary)\n",
      "Coefficient statistics:\n",
      "  Matrix range     [2e-02, 8e+01]\n",
      "  Objective range  [5e+00, 4e+01]\n"
     ]
    },
    {
     "name": "stdout",
     "output_type": "stream",
     "text": [
      "  Bounds range     [1e+00, 1e+00]\n",
      "  RHS range        [1e+00, 4e+02]\n",
      "Found heuristic solution: objective 239.7385312\n",
      "Presolve removed 2 rows and 168 columns\n",
      "Presolve time: 0.00s\n",
      "Presolved: 12 rows, 226 columns, 637 nonzeros\n",
      "Found heuristic solution: objective 412.3754063\n",
      "Variable types: 0 continuous, 226 integer (226 binary)\n",
      "\n",
      "Root relaxation: objective 4.322535e+02, 31 iterations, 0.00 seconds\n",
      "\n",
      "    Nodes    |    Current Node    |     Objective Bounds      |     Work\n",
      " Expl Unexpl |  Obj  Depth IntInf | Incumbent    BestBd   Gap | It/Node Time\n",
      "\n",
      "     0     0  432.25347    0    4  412.37541  432.25347  4.82%     -    0s\n",
      "H    0     0                     430.7922604  432.25347  0.34%     -    0s\n",
      "\n",
      "Cutting planes:\n",
      "  Cover: 1\n",
      "\n",
      "Explored 1 nodes (31 simplex iterations) in 0.03 seconds\n",
      "Thread count was 8 (of 8 available processors)\n",
      "\n",
      "Solution count 3: 430.792 412.375 239.739 \n",
      "\n",
      "Optimal solution found (tolerance 1.00e-04)\n",
      "Best objective 4.307922604167e+02, best bound 4.307922604167e+02, gap 0.0000%\n",
      "Gurobi status= 2\n",
      "Changed value of parameter TimeLimit to 1.0\n",
      "   Prev: inf  Min: 0.0  Max: inf  Default: inf\n",
      "Gurobi Optimizer version 9.1.0 build v9.1.0rc0 (win64)\n",
      "Thread count: 4 physical cores, 8 logical processors, using up to 8 threads\n",
      "Optimize a model with 14 rows, 394 columns and 1598 nonzeros\n",
      "Model fingerprint: 0x261f1bb6\n",
      "Variable types: 0 continuous, 394 integer (0 binary)\n",
      "Coefficient statistics:\n",
      "  Matrix range     [2e-02, 8e+01]\n",
      "  Objective range  [5e+00, 4e+01]\n",
      "  Bounds range     [1e+00, 1e+00]\n",
      "  RHS range        [1e+00, 4e+02]\n",
      "Found heuristic solution: objective 239.7385312\n",
      "Presolve removed 2 rows and 168 columns\n",
      "Presolve time: 0.00s\n",
      "Presolved: 12 rows, 226 columns, 637 nonzeros\n",
      "Found heuristic solution: objective 406.9453125\n",
      "Variable types: 0 continuous, 226 integer (226 binary)\n",
      "\n",
      "Root relaxation: objective 4.303368e+02, 24 iterations, 0.00 seconds\n",
      "\n",
      "    Nodes    |    Current Node    |     Objective Bounds      |     Work\n",
      " Expl Unexpl |  Obj  Depth IntInf | Incumbent    BestBd   Gap | It/Node Time\n",
      "\n",
      "     0     0  430.33680    0    4  406.94531  430.33680  5.75%     -    0s\n",
      "H    0     0                     420.3863438  430.33680  2.37%     -    0s\n",
      "H    0     0                     427.8518229  430.33680  0.58%     -    0s\n",
      "H    0     0                     427.9771563  430.33680  0.55%     -    0s\n",
      "\n",
      "Cutting planes:\n",
      "  Cover: 1\n",
      "  StrongCG: 1\n",
      "  GUB cover: 1\n",
      "\n",
      "Explored 1 nodes (24 simplex iterations) in 0.04 seconds\n",
      "Thread count was 8 (of 8 available processors)\n",
      "\n",
      "Solution count 5: 427.977 427.852 420.386 ... 239.739\n",
      "\n",
      "Optimal solution found (tolerance 1.00e-04)\n",
      "Best objective 4.279771562500e+02, best bound 4.279771562500e+02, gap 0.0000%\n",
      "Gurobi status= 2\n",
      "Changed value of parameter TimeLimit to 1.0\n",
      "   Prev: inf  Min: 0.0  Max: inf  Default: inf\n",
      "Gurobi Optimizer version 9.1.0 build v9.1.0rc0 (win64)\n",
      "Thread count: 4 physical cores, 8 logical processors, using up to 8 threads\n",
      "Optimize a model with 14 rows, 394 columns and 1598 nonzeros\n",
      "Model fingerprint: 0x217eb882\n",
      "Variable types: 0 continuous, 394 integer (0 binary)\n",
      "Coefficient statistics:\n",
      "  Matrix range     [2e-02, 8e+01]\n",
      "  Objective range  [5e+00, 4e+01]\n",
      "  Bounds range     [1e+00, 1e+00]\n",
      "  RHS range        [1e+00, 4e+02]\n",
      "Found heuristic solution: objective 239.7385312\n",
      "Presolve removed 2 rows and 168 columns\n",
      "Presolve time: 0.00s\n",
      "Presolved: 12 rows, 226 columns, 637 nonzeros\n",
      "Found heuristic solution: objective 407.1287396\n",
      "Variable types: 0 continuous, 226 integer (226 binary)\n",
      "\n",
      "Root relaxation: objective 4.282338e+02, 25 iterations, 0.00 seconds\n",
      "\n",
      "    Nodes    |    Current Node    |     Objective Bounds      |     Work\n",
      " Expl Unexpl |  Obj  Depth IntInf | Incumbent    BestBd   Gap | It/Node Time\n",
      "\n",
      "     0     0  428.23383    0    4  407.12874  428.23383  5.18%     -    0s\n",
      "H    0     0                     416.6112917  428.23383  2.79%     -    0s\n",
      "H    0     0                     425.2084896  428.23383  0.71%     -    0s\n",
      "H    0     0                     425.2420208  428.23383  0.70%     -    0s\n",
      "H    0     0                     425.8887292  428.23383  0.55%     -    0s\n",
      "     0     0  426.37958    0    8  425.88873  426.37958  0.12%     -    0s\n",
      "     0     0  426.37958    0    3  425.88873  426.37958  0.12%     -    0s\n",
      "     0     0  426.37958    0    6  425.88873  426.37958  0.12%     -    0s\n",
      "     0     0  426.37958    0    4  425.88873  426.37958  0.12%     -    0s\n",
      "     0     0  426.37958    0    6  425.88873  426.37958  0.12%     -    0s\n",
      "     0     0  426.37958    0    7  425.88873  426.37958  0.12%     -    0s\n",
      "     0     0  425.88873    0   11  425.88873  425.88873  0.00%     -    0s\n",
      "\n",
      "Cutting planes:\n",
      "  Gomory: 2\n",
      "  Cover: 3\n",
      "  MIR: 2\n",
      "  GUB cover: 2\n",
      "\n",
      "Explored 1 nodes (51 simplex iterations) in 0.06 seconds\n",
      "Thread count was 8 (of 8 available processors)\n",
      "\n",
      "Solution count 6: 425.889 425.242 425.208 ... 239.739\n",
      "\n",
      "Optimal solution found (tolerance 1.00e-04)\n",
      "Best objective 4.258887291667e+02, best bound 4.258887291667e+02, gap 0.0000%\n",
      "Gurobi status= 2\n",
      "Changed value of parameter TimeLimit to 1.0\n",
      "   Prev: inf  Min: 0.0  Max: inf  Default: inf\n",
      "Gurobi Optimizer version 9.1.0 build v9.1.0rc0 (win64)\n",
      "Thread count: 4 physical cores, 8 logical processors, using up to 8 threads\n",
      "Optimize a model with 14 rows, 394 columns and 1598 nonzeros\n",
      "Model fingerprint: 0xe0c70cf5\n",
      "Variable types: 0 continuous, 394 integer (0 binary)\n",
      "Coefficient statistics:\n",
      "  Matrix range     [2e-02, 8e+01]\n",
      "  Objective range  [5e+00, 4e+01]\n",
      "  Bounds range     [1e+00, 1e+00]\n",
      "  RHS range        [1e+00, 4e+02]\n",
      "Found heuristic solution: objective 239.7385312\n",
      "Presolve removed 2 rows and 168 columns\n",
      "Presolve time: 0.00s\n",
      "Presolved: 12 rows, 226 columns, 637 nonzeros\n",
      "Found heuristic solution: objective 398.1618333\n",
      "Variable types: 0 continuous, 226 integer (226 binary)\n",
      "\n",
      "Root relaxation: objective 4.260337e+02, 25 iterations, 0.00 seconds\n",
      "\n",
      "    Nodes    |    Current Node    |     Objective Bounds      |     Work\n",
      " Expl Unexpl |  Obj  Depth IntInf | Incumbent    BestBd   Gap | It/Node Time\n",
      "\n",
      "     0     0  426.03368    0    4  398.16183  426.03368  7.00%     -    0s\n",
      "H    0     0                     408.8465104  426.03368  4.20%     -    0s\n",
      "H    0     0                     422.2680521  426.03368  0.89%     -    0s\n",
      "H    0     0                     422.3015833  426.03368  0.88%     -    0s\n",
      "     0     0  424.82483    0    8  422.30158  424.82483  0.60%     -    0s\n",
      "     0     0  424.82483    0    3  422.30158  424.82483  0.60%     -    0s\n",
      "     0     0  424.82483    0    6  422.30158  424.82483  0.60%     -    0s\n",
      "H    0     0                     422.6051563  424.82483  0.53%     -    0s\n",
      "H    0     0                     422.9482917  424.82483  0.44%     -    0s\n",
      "H    0     0                     423.4841667  424.82483  0.32%     -    0s\n",
      "     0     0  424.45852    0    4  423.48417  424.45852  0.23%     -    0s\n",
      "     0     0  423.48417    0    4  423.48417  423.48417  0.00%     -    0s\n",
      "\n",
      "Cutting planes:\n",
      "  Gomory: 3\n",
      "  Cover: 1\n",
      "  Clique: 1\n",
      "  GUB cover: 2\n",
      "\n",
      "Explored 1 nodes (49 simplex iterations) in 0.05 seconds\n",
      "Thread count was 8 (of 8 available processors)\n",
      "\n",
      "Solution count 8: 423.484 422.948 422.605 ... 239.739\n",
      "\n",
      "Optimal solution found (tolerance 1.00e-04)\n",
      "Best objective 4.234841666667e+02, best bound 4.234841666667e+02, gap 0.0000%\n",
      "Gurobi status= 2\n",
      "Changed value of parameter TimeLimit to 1.0\n",
      "   Prev: inf  Min: 0.0  Max: inf  Default: inf\n",
      "Gurobi Optimizer version 9.1.0 build v9.1.0rc0 (win64)\n",
      "Thread count: 4 physical cores, 8 logical processors, using up to 8 threads\n",
      "Optimize a model with 14 rows, 394 columns and 1598 nonzeros\n",
      "Model fingerprint: 0x58e3494b\n",
      "Variable types: 0 continuous, 394 integer (0 binary)\n",
      "Coefficient statistics:\n",
      "  Matrix range     [2e-02, 8e+01]\n",
      "  Objective range  [5e+00, 4e+01]\n",
      "  Bounds range     [1e+00, 1e+00]\n",
      "  RHS range        [1e+00, 4e+02]\n",
      "Found heuristic solution: objective 239.7385312\n",
      "Presolve removed 2 rows and 168 columns\n",
      "Presolve time: 0.00s\n",
      "Presolved: 12 rows, 226 columns, 637 nonzeros\n",
      "Found heuristic solution: objective 405.1074583\n",
      "Variable types: 0 continuous, 226 integer (226 binary)\n",
      "\n",
      "Root relaxation: objective 4.236515e+02, 24 iterations, 0.00 seconds\n",
      "\n",
      "    Nodes    |    Current Node    |     Objective Bounds      |     Work\n",
      " Expl Unexpl |  Obj  Depth IntInf | Incumbent    BestBd   Gap | It/Node Time\n"
     ]
    },
    {
     "name": "stdout",
     "output_type": "stream",
     "text": [
      "\n",
      "     0     0  423.65149    0    4  405.10746  423.65149  4.58%     -    0s\n",
      "H    0     0                     412.2431042  423.65149  2.77%     -    0s\n",
      "H    0     0                     417.1471667  423.65149  1.56%     -    0s\n",
      "H    0     0                     419.9618229  423.65149  0.88%     -    0s\n",
      "H    0     0                     419.9953542  423.65149  0.87%     -    0s\n",
      "     0     0  422.26050    0   10  419.99535  422.26050  0.54%     -    0s\n",
      "     0     0  422.26050    0    2  419.99535  422.26050  0.54%     -    0s\n",
      "     0     0  422.26050    0    8  419.99535  422.26050  0.54%     -    0s\n",
      "H    0     0                     420.6420625  422.26050  0.38%     -    0s\n",
      "     0     0  422.26050    0    8  420.64206  422.26050  0.38%     -    0s\n",
      "     0     0  422.26050    0    9  420.64206  422.26050  0.38%     -    0s\n",
      "     0     0  421.25372    0    9  420.64206  421.25372  0.15%     -    0s\n",
      "     0     0  420.64206    0    5  420.64206  420.64206  0.00%     -    0s\n",
      "\n",
      "Cutting planes:\n",
      "  Gomory: 1\n",
      "  Cover: 1\n",
      "  Clique: 1\n",
      "  GUB cover: 2\n",
      "  RLT: 3\n",
      "\n",
      "Explored 1 nodes (57 simplex iterations) in 0.06 seconds\n",
      "Thread count was 8 (of 8 available processors)\n",
      "\n",
      "Solution count 7: 420.642 419.995 419.962 ... 239.739\n",
      "\n",
      "Optimal solution found (tolerance 1.00e-04)\n",
      "Best objective 4.206420625000e+02, best bound 4.206420625000e+02, gap 0.0000%\n",
      "Gurobi status= 2\n",
      "Changed value of parameter TimeLimit to 1.0\n",
      "   Prev: inf  Min: 0.0  Max: inf  Default: inf\n",
      "Gurobi Optimizer version 9.1.0 build v9.1.0rc0 (win64)\n",
      "Thread count: 4 physical cores, 8 logical processors, using up to 8 threads\n",
      "Optimize a model with 14 rows, 394 columns and 1598 nonzeros\n",
      "Model fingerprint: 0x0c79acba\n",
      "Variable types: 0 continuous, 394 integer (0 binary)\n",
      "Coefficient statistics:\n",
      "  Matrix range     [2e-02, 8e+01]\n",
      "  Objective range  [5e+00, 4e+01]\n",
      "  Bounds range     [1e+00, 1e+00]\n",
      "  RHS range        [1e+00, 4e+02]\n",
      "Found heuristic solution: objective 239.7385312\n",
      "Presolve removed 2 rows and 168 columns\n",
      "Presolve time: 0.00s\n",
      "Presolved: 12 rows, 226 columns, 637 nonzeros\n",
      "Found heuristic solution: objective 397.6146771\n",
      "Variable types: 0 continuous, 226 integer (226 binary)\n",
      "\n",
      "Root relaxation: objective 4.212645e+02, 20 iterations, 0.00 seconds\n",
      "\n",
      "    Nodes    |    Current Node    |     Objective Bounds      |     Work\n",
      " Expl Unexpl |  Obj  Depth IntInf | Incumbent    BestBd   Gap | It/Node Time\n",
      "\n",
      "     0     0  421.26447    0    4  397.61468  421.26447  5.95%     -    0s\n",
      "H    0     0                     412.8161563  421.26447  2.05%     -    0s\n",
      "H    0     0                     413.3520313  421.26447  1.91%     -    0s\n",
      "H    0     0                     416.6112917  421.26447  1.12%     -    0s\n",
      "H    0     0                     417.1471667  421.26447  0.99%     -    0s\n",
      "     0     0  420.10552    0    7  417.14717  420.10552  0.71%     -    0s\n",
      "     0     0  420.10552    0    2  417.14717  420.10552  0.71%     -    0s\n",
      "     0     0  420.10552    0    6  417.14717  420.10552  0.71%     -    0s\n",
      "H    0     0                     417.7016250  420.10552  0.58%     -    0s\n",
      "     0     0  419.53367    0    6  417.70163  419.53367  0.44%     -    0s\n",
      "     0     0  417.70163    0    7  417.70163  417.70163  0.00%     -    0s\n",
      "\n",
      "Cutting planes:\n",
      "  Gomory: 1\n",
      "  Cover: 2\n",
      "  Clique: 1\n",
      "  MIR: 1\n",
      "  RLT: 1\n",
      "\n",
      "Explored 1 nodes (52 simplex iterations) in 0.05 seconds\n",
      "Thread count was 8 (of 8 available processors)\n",
      "\n",
      "Solution count 7: 417.702 417.147 416.611 ... 239.739\n",
      "\n",
      "Optimal solution found (tolerance 1.00e-04)\n",
      "Best objective 4.177016250000e+02, best bound 4.177016250000e+02, gap 0.0000%\n",
      "Gurobi status= 2\n",
      "Changed value of parameter TimeLimit to 1.0\n",
      "   Prev: inf  Min: 0.0  Max: inf  Default: inf\n",
      "Gurobi Optimizer version 9.1.0 build v9.1.0rc0 (win64)\n",
      "Thread count: 4 physical cores, 8 logical processors, using up to 8 threads\n",
      "Optimize a model with 14 rows, 394 columns and 1598 nonzeros\n",
      "Model fingerprint: 0xe2cec61e\n",
      "Variable types: 0 continuous, 394 integer (0 binary)\n",
      "Coefficient statistics:\n",
      "  Matrix range     [2e-02, 8e+01]\n",
      "  Objective range  [5e+00, 4e+01]\n",
      "  Bounds range     [1e+00, 1e+00]\n",
      "  RHS range        [1e+00, 4e+02]\n",
      "Found heuristic solution: objective 239.7385312\n",
      "Presolve removed 2 rows and 168 columns\n",
      "Presolve time: 0.00s\n",
      "Presolved: 12 rows, 226 columns, 637 nonzeros\n",
      "Found heuristic solution: objective 393.7250313\n",
      "Variable types: 0 continuous, 226 integer (226 binary)\n",
      "\n",
      "Root relaxation: objective 4.188775e+02, 25 iterations, 0.00 seconds\n",
      "\n",
      "    Nodes    |    Current Node    |     Objective Bounds      |     Work\n",
      " Expl Unexpl |  Obj  Depth IntInf | Incumbent    BestBd   Gap | It/Node Time\n",
      "\n",
      "     0     0  418.87745    0    4  393.72503  418.87745  6.39%     -    0s\n",
      "H    0     0                     416.6112917  418.87745  0.54%     -    0s\n",
      "     0     0  417.61130    0    5  416.61129  417.61130  0.24%     -    0s\n",
      "     0     0  417.60513    0    1  416.61129  417.60513  0.24%     -    0s\n",
      "\n",
      "Cutting planes:\n",
      "  GUB cover: 1\n",
      "\n",
      "Explored 1 nodes (41 simplex iterations) in 0.04 seconds\n",
      "Thread count was 8 (of 8 available processors)\n",
      "\n",
      "Solution count 3: 416.611 393.725 239.739 \n",
      "\n",
      "Optimal solution found (tolerance 1.00e-04)\n",
      "Best objective 4.166112916667e+02, best bound 4.166112916667e+02, gap 0.0000%\n",
      "Gurobi status= 2\n",
      "Changed value of parameter TimeLimit to 1.0\n",
      "   Prev: inf  Min: 0.0  Max: inf  Default: inf\n",
      "Gurobi Optimizer version 9.1.0 build v9.1.0rc0 (win64)\n",
      "Thread count: 4 physical cores, 8 logical processors, using up to 8 threads\n",
      "Optimize a model with 14 rows, 394 columns and 1598 nonzeros\n",
      "Model fingerprint: 0x34670cc7\n",
      "Variable types: 0 continuous, 394 integer (0 binary)\n",
      "Coefficient statistics:\n",
      "  Matrix range     [2e-02, 8e+01]\n",
      "  Objective range  [5e+00, 4e+01]\n",
      "  Bounds range     [1e+00, 1e+00]\n",
      "  RHS range        [1e+00, 4e+02]\n",
      "Found heuristic solution: objective 236.5143958\n",
      "Presolve removed 2 rows and 168 columns\n",
      "Presolve time: 0.00s\n",
      "Presolved: 12 rows, 226 columns, 637 nonzeros\n",
      "Found heuristic solution: objective 386.5543750\n",
      "Variable types: 0 continuous, 226 integer (226 binary)\n",
      "\n",
      "Root relaxation: objective 4.164124e+02, 26 iterations, 0.00 seconds\n",
      "\n",
      "    Nodes    |    Current Node    |     Objective Bounds      |     Work\n",
      " Expl Unexpl |  Obj  Depth IntInf | Incumbent    BestBd   Gap | It/Node Time\n",
      "\n",
      "     0     0  416.41244    0    3  386.55438  416.41244  7.72%     -    0s\n",
      "H    0     0                     409.2327812  416.41244  1.75%     -    0s\n",
      "H    0     0                     409.8757188  416.41244  1.59%     -    0s\n",
      "H    0     0                     411.4677083  416.41244  1.20%     -    0s\n",
      "H    0     0                     411.9005000  415.14061  0.79%     -    0s\n",
      "     0     0  414.52368    0    6  411.90050  414.52368  0.64%     -    0s\n",
      "     0     0  414.52368    0    2  411.90050  414.52368  0.64%     -    0s\n",
      "     0     0  414.52368    0    4  411.90050  414.52368  0.64%     -    0s\n",
      "     0     0  414.42143    0   10  411.90050  414.42143  0.61%     -    0s\n",
      "     0     0  411.90050    0   10  411.90050  411.90050  0.00%     -    0s\n",
      "\n",
      "Cutting planes:\n",
      "  Gomory: 1\n",
      "  Cover: 5\n",
      "  MIR: 4\n",
      "  StrongCG: 1\n",
      "  GUB cover: 1\n",
      "\n",
      "Explored 1 nodes (49 simplex iterations) in 0.05 seconds\n",
      "Thread count was 8 (of 8 available processors)\n",
      "\n",
      "Solution count 6: 411.901 411.468 409.876 ... 236.514\n",
      "\n",
      "Optimal solution found (tolerance 1.00e-04)\n",
      "Best objective 4.119005000000e+02, best bound 4.119005000000e+02, gap 0.0000%\n",
      "Gurobi status= 2\n",
      "Changed value of parameter TimeLimit to 1.0\n",
      "   Prev: inf  Min: 0.0  Max: inf  Default: inf\n",
      "Gurobi Optimizer version 9.1.0 build v9.1.0rc0 (win64)\n",
      "Thread count: 4 physical cores, 8 logical processors, using up to 8 threads\n",
      "Optimize a model with 14 rows, 394 columns and 1598 nonzeros\n",
      "Model fingerprint: 0x9610dad5\n",
      "Variable types: 0 continuous, 394 integer (0 binary)\n",
      "Coefficient statistics:\n",
      "  Matrix range     [2e-02, 8e+01]\n",
      "  Objective range  [5e+00, 4e+01]\n",
      "  Bounds range     [1e+00, 1e+00]\n",
      "  RHS range        [1e+00, 4e+02]\n",
      "Found heuristic solution: objective 236.5143958\n",
      "Presolve removed 2 rows and 168 columns\n",
      "Presolve time: 0.00s\n",
      "Presolved: 12 rows, 226 columns, 637 nonzeros\n",
      "Found heuristic solution: objective 364.8064688\n",
      "Variable types: 0 continuous, 226 integer (226 binary)\n",
      "\n",
      "Root relaxation: objective 4.139061e+02, 26 iterations, 0.00 seconds\n",
      "\n",
      "    Nodes    |    Current Node    |     Objective Bounds      |     Work\n"
     ]
    },
    {
     "name": "stdout",
     "output_type": "stream",
     "text": [
      " Expl Unexpl |  Obj  Depth IntInf | Incumbent    BestBd   Gap | It/Node Time\n",
      "\n",
      "     0     0  413.90612    0    3  364.80647  413.90612  13.5%     -    0s\n",
      "H    0     0                     403.3709688  413.90612  2.61%     -    0s\n",
      "H    0     0                     405.3113542  413.90612  2.12%     -    0s\n",
      "H    0     0                     406.7820104  413.90612  1.75%     -    0s\n",
      "H    0     0                     411.3646250  413.90612  0.62%     -    0s\n",
      "\n",
      "Cutting planes:\n",
      "  Cover: 2\n",
      "\n",
      "Explored 1 nodes (26 simplex iterations) in 0.03 seconds\n",
      "Thread count was 8 (of 8 available processors)\n",
      "\n",
      "Solution count 6: 411.365 406.782 405.311 ... 236.514\n",
      "\n",
      "Optimal solution found (tolerance 1.00e-04)\n",
      "Best objective 4.113646250000e+02, best bound 4.113646250000e+02, gap 0.0000%\n",
      "Gurobi status= 2\n",
      "Changed value of parameter TimeLimit to 1.0\n",
      "   Prev: inf  Min: 0.0  Max: inf  Default: inf\n",
      "Gurobi Optimizer version 9.1.0 build v9.1.0rc0 (win64)\n",
      "Thread count: 4 physical cores, 8 logical processors, using up to 8 threads\n",
      "Optimize a model with 14 rows, 394 columns and 1598 nonzeros\n",
      "Model fingerprint: 0x824f718b\n",
      "Variable types: 0 continuous, 394 integer (0 binary)\n",
      "Coefficient statistics:\n",
      "  Matrix range     [2e-02, 8e+01]\n",
      "  Objective range  [5e+00, 4e+01]\n",
      "  Bounds range     [1e+00, 1e+00]\n",
      "  RHS range        [1e+00, 4e+02]\n",
      "Found heuristic solution: objective 239.0621667\n",
      "Presolve removed 2 rows and 168 columns\n",
      "Presolve time: 0.00s\n",
      "Presolved: 12 rows, 226 columns, 637 nonzeros\n",
      "Found heuristic solution: objective 343.2124063\n",
      "Variable types: 0 continuous, 226 integer (226 binary)\n",
      "\n",
      "Root relaxation: objective 4.113998e+02, 24 iterations, 0.00 seconds\n",
      "\n",
      "    Nodes    |    Current Node    |     Objective Bounds      |     Work\n",
      " Expl Unexpl |  Obj  Depth IntInf | Incumbent    BestBd   Gap | It/Node Time\n",
      "\n",
      "     0     0  411.39981    0    3  343.21241  411.39981  19.9%     -    0s\n",
      "H    0     0                     402.7861771  411.39981  2.14%     -    0s\n",
      "H    0     0                     403.8415729  411.39981  1.87%     -    0s\n",
      "H    0     0                     408.8465104  411.39981  0.62%     -    0s\n",
      "\n",
      "Cutting planes:\n",
      "  Cover: 2\n",
      "\n",
      "Explored 1 nodes (24 simplex iterations) in 0.03 seconds\n",
      "Thread count was 8 (of 8 available processors)\n",
      "\n",
      "Solution count 5: 408.847 403.842 402.786 ... 239.062\n",
      "\n",
      "Optimal solution found (tolerance 1.00e-04)\n",
      "Best objective 4.088465104167e+02, best bound 4.088465104167e+02, gap 0.0000%\n",
      "Gurobi status= 2\n",
      "Changed value of parameter TimeLimit to 1.0\n",
      "   Prev: inf  Min: 0.0  Max: inf  Default: inf\n",
      "Gurobi Optimizer version 9.1.0 build v9.1.0rc0 (win64)\n",
      "Thread count: 4 physical cores, 8 logical processors, using up to 8 threads\n",
      "Optimize a model with 14 rows, 394 columns and 1598 nonzeros\n",
      "Model fingerprint: 0x1a2259b5\n",
      "Variable types: 0 continuous, 394 integer (0 binary)\n",
      "Coefficient statistics:\n",
      "  Matrix range     [2e-02, 8e+01]\n",
      "  Objective range  [5e+00, 4e+01]\n",
      "  Bounds range     [1e+00, 1e+00]\n",
      "  RHS range        [1e+00, 4e+02]\n",
      "Found heuristic solution: objective 267.9356042\n",
      "Presolve removed 2 rows and 168 columns\n",
      "Presolve time: 0.00s\n",
      "Presolved: 12 rows, 226 columns, 637 nonzeros\n",
      "Found heuristic solution: objective 381.2016771\n",
      "Variable types: 0 continuous, 226 integer (226 binary)\n",
      "\n",
      "Root relaxation: objective 4.088935e+02, 24 iterations, 0.00 seconds\n",
      "\n",
      "    Nodes    |    Current Node    |     Objective Bounds      |     Work\n",
      " Expl Unexpl |  Obj  Depth IntInf | Incumbent    BestBd   Gap | It/Node Time\n",
      "\n",
      "     0     0  408.89349    0    3  381.20168  408.89349  7.26%     -    0s\n",
      "H    0     0                     395.7802396  408.89349  3.31%     -    0s\n",
      "H    0     0                     399.2009792  408.89349  2.43%     -    0s\n",
      "H    0     0                     400.9446042  408.89349  1.98%     -    0s\n",
      "H    0     0                     403.5998438  408.89349  1.31%     -    0s\n",
      "H    0     0                     404.1357188  408.89349  1.18%     -    0s\n",
      "\n",
      "Cutting planes:\n",
      "  Cover: 3\n",
      "  MIR: 1\n",
      "\n",
      "Explored 1 nodes (24 simplex iterations) in 0.04 seconds\n",
      "Thread count was 8 (of 8 available processors)\n",
      "\n",
      "Solution count 7: 404.136 403.6 400.945 ... 267.936\n",
      "\n",
      "Optimal solution found (tolerance 1.00e-04)\n",
      "Best objective 4.041357187500e+02, best bound 4.041357187500e+02, gap 0.0000%\n",
      "Gurobi status= 2\n",
      "Changed value of parameter TimeLimit to 1.0\n",
      "   Prev: inf  Min: 0.0  Max: inf  Default: inf\n",
      "Gurobi Optimizer version 9.1.0 build v9.1.0rc0 (win64)\n",
      "Thread count: 4 physical cores, 8 logical processors, using up to 8 threads\n",
      "Optimize a model with 14 rows, 394 columns and 1598 nonzeros\n",
      "Model fingerprint: 0x07fab374\n",
      "Variable types: 0 continuous, 394 integer (0 binary)\n",
      "Coefficient statistics:\n",
      "  Matrix range     [2e-02, 8e+01]\n",
      "  Objective range  [5e+00, 4e+01]\n",
      "  Bounds range     [1e+00, 1e+00]\n",
      "  RHS range        [1e+00, 4e+02]\n",
      "Found heuristic solution: objective 240.1757500\n",
      "Presolve removed 2 rows and 168 columns\n",
      "Presolve time: 0.00s\n",
      "Presolved: 12 rows, 226 columns, 637 nonzeros\n",
      "Found heuristic solution: objective 377.6447292\n",
      "Variable types: 0 continuous, 226 integer (226 binary)\n",
      "\n",
      "Root relaxation: objective 4.059627e+02, 26 iterations, 0.00 seconds\n",
      "\n",
      "    Nodes    |    Current Node    |     Objective Bounds      |     Work\n",
      " Expl Unexpl |  Obj  Depth IntInf | Incumbent    BestBd   Gap | It/Node Time\n",
      "\n",
      "     0     0  405.96267    0    4  377.64473  405.96267  7.50%     -    0s\n",
      "H    0     0                     396.9466354  405.96267  2.27%     -    0s\n",
      "H    0     0                     397.7158854  405.96267  2.07%     -    0s\n",
      "H    0     0                     397.8511979  405.96267  2.04%     -    0s\n",
      "H    0     0                     398.8819167  405.96267  1.78%     -    0s\n",
      "H    0     0                     403.5998438  405.96267  0.59%     -    0s\n",
      "\n",
      "Cutting planes:\n",
      "  Cover: 2\n",
      "  GUB cover: 1\n",
      "\n",
      "Explored 1 nodes (26 simplex iterations) in 0.04 seconds\n",
      "Thread count was 8 (of 8 available processors)\n",
      "\n",
      "Solution count 7: 403.6 398.882 397.851 ... 240.176\n",
      "\n",
      "Optimal solution found (tolerance 1.00e-04)\n",
      "Best objective 4.035998437500e+02, best bound 4.035998437500e+02, gap 0.0000%\n",
      "Gurobi status= 2\n",
      "Changed value of parameter TimeLimit to 1.0\n",
      "   Prev: inf  Min: 0.0  Max: inf  Default: inf\n",
      "Gurobi Optimizer version 9.1.0 build v9.1.0rc0 (win64)\n",
      "Thread count: 4 physical cores, 8 logical processors, using up to 8 threads\n",
      "Optimize a model with 14 rows, 394 columns and 1598 nonzeros\n",
      "Model fingerprint: 0xe46924fe\n",
      "Variable types: 0 continuous, 394 integer (0 binary)\n",
      "Coefficient statistics:\n",
      "  Matrix range     [2e-02, 8e+01]\n",
      "  Objective range  [5e+00, 4e+01]\n",
      "  Bounds range     [1e+00, 1e+00]\n",
      "  RHS range        [1e+00, 4e+02]\n",
      "Presolve removed 2 rows and 168 columns\n",
      "Presolve time: 0.00s\n",
      "Presolved: 12 rows, 226 columns, 637 nonzeros\n",
      "Variable types: 0 continuous, 226 integer (226 binary)\n",
      "Found heuristic solution: objective 340.1933333\n",
      "\n",
      "Root relaxation: objective 4.030217e+02, 25 iterations, 0.00 seconds\n",
      "\n",
      "    Nodes    |    Current Node    |     Objective Bounds      |     Work\n",
      " Expl Unexpl |  Obj  Depth IntInf | Incumbent    BestBd   Gap | It/Node Time\n",
      "\n",
      "     0     0  403.02171    0    4  340.19333  403.02171  18.5%     -    0s\n",
      "H    0     0                     388.1022188  403.02171  3.84%     -    0s\n",
      "H    0     0                     395.4310313  403.02171  1.92%     -    0s\n",
      "H    0     0                     397.6128021  403.02171  1.36%     -    0s\n",
      "\n",
      "Cutting planes:\n",
      "  StrongCG: 1\n",
      "  RLT: 1\n",
      "\n",
      "Explored 1 nodes (25 simplex iterations) in 0.03 seconds\n",
      "Thread count was 8 (of 8 available processors)\n",
      "\n",
      "Solution count 4: 397.613 395.431 388.102 340.193 \n",
      "\n",
      "Optimal solution found (tolerance 1.00e-04)\n",
      "Best objective 3.976128020833e+02, best bound 3.976128020833e+02, gap 0.0000%\n",
      "Gurobi status= 2\n",
      "Changed value of parameter TimeLimit to 1.0\n",
      "   Prev: inf  Min: 0.0  Max: inf  Default: inf\n",
      "Gurobi Optimizer version 9.1.0 build v9.1.0rc0 (win64)\n",
      "Thread count: 4 physical cores, 8 logical processors, using up to 8 threads\n",
      "Optimize a model with 14 rows, 394 columns and 1598 nonzeros\n",
      "Model fingerprint: 0xb6cbc953\n",
      "Variable types: 0 continuous, 394 integer (0 binary)\n",
      "Coefficient statistics:\n",
      "  Matrix range     [2e-02, 8e+01]\n",
      "  Objective range  [5e+00, 4e+01]\n",
      "  Bounds range     [1e+00, 1e+00]\n",
      "  RHS range        [1e+00, 4e+02]\n",
      "Found heuristic solution: objective 224.0638542\n",
      "Presolve removed 2 rows and 168 columns\n"
     ]
    },
    {
     "name": "stdout",
     "output_type": "stream",
     "text": [
      "Presolve time: 0.00s\n",
      "Presolved: 12 rows, 226 columns, 637 nonzeros\n",
      "Found heuristic solution: objective 351.5880417\n",
      "Variable types: 0 continuous, 226 integer (226 binary)\n",
      "\n",
      "Root relaxation: objective 4.000372e+02, 25 iterations, 0.00 seconds\n",
      "\n",
      "    Nodes    |    Current Node    |     Objective Bounds      |     Work\n",
      " Expl Unexpl |  Obj  Depth IntInf | Incumbent    BestBd   Gap | It/Node Time\n",
      "\n",
      "     0     0  400.03717    0    4  351.58804  400.03717  13.8%     -    0s\n",
      "H    0     0                     387.1799271  400.03717  3.32%     -    0s\n",
      "H    0     0                     387.3090417  400.03717  3.29%     -    0s\n",
      "H    0     0                     390.9562604  400.03717  2.32%     -    0s\n",
      "H    0     0                     391.1944479  400.03717  2.26%     -    0s\n",
      "H    0     0                     393.3716354  400.03717  1.69%     -    0s\n",
      "     0     0  394.22847    0   11  393.37164  394.22847  0.22%     -    0s\n",
      "     0     0  394.22847    0    3  393.37164  394.22847  0.22%     -    0s\n",
      "     0     0  394.22847    0   10  393.37164  394.22847  0.22%     -    0s\n",
      "     0     0  394.22847    0    5  393.37164  394.22847  0.22%     -    0s\n",
      "     0     0  393.37164    0    8  393.37164  393.37164  0.00%     -    0s\n",
      "\n",
      "Cutting planes:\n",
      "  Gomory: 4\n",
      "  Clique: 1\n",
      "  MIR: 3\n",
      "  StrongCG: 1\n",
      "  GUB cover: 2\n",
      "\n",
      "Explored 1 nodes (68 simplex iterations) in 0.06 seconds\n",
      "Thread count was 8 (of 8 available processors)\n",
      "\n",
      "Solution count 7: 393.372 391.194 390.956 ... 224.064\n",
      "\n",
      "Optimal solution found (tolerance 1.00e-04)\n",
      "Best objective 3.933716354167e+02, best bound 3.933716354167e+02, gap 0.0000%\n",
      "Gurobi status= 2\n",
      "Changed value of parameter TimeLimit to 1.0\n",
      "   Prev: inf  Min: 0.0  Max: inf  Default: inf\n",
      "Gurobi Optimizer version 9.1.0 build v9.1.0rc0 (win64)\n",
      "Thread count: 4 physical cores, 8 logical processors, using up to 8 threads\n",
      "Optimize a model with 14 rows, 394 columns and 1598 nonzeros\n",
      "Model fingerprint: 0x64980b36\n",
      "Variable types: 0 continuous, 394 integer (0 binary)\n",
      "Coefficient statistics:\n",
      "  Matrix range     [2e-02, 8e+01]\n",
      "  Objective range  [5e+00, 4e+01]\n",
      "  Bounds range     [1e+00, 1e+00]\n",
      "  RHS range        [1e+00, 4e+02]\n",
      "Found heuristic solution: objective 244.9110208\n",
      "Presolve removed 2 rows and 168 columns\n",
      "Presolve time: 0.00s\n",
      "Presolved: 12 rows, 226 columns, 637 nonzeros\n",
      "Found heuristic solution: objective 362.2860938\n",
      "Variable types: 0 continuous, 226 integer (226 binary)\n",
      "\n",
      "Root relaxation: objective 3.970526e+02, 26 iterations, 0.00 seconds\n",
      "\n",
      "    Nodes    |    Current Node    |     Objective Bounds      |     Work\n",
      " Expl Unexpl |  Obj  Depth IntInf | Incumbent    BestBd   Gap | It/Node Time\n",
      "\n",
      "     0     0  397.05263    0    4  362.28609  397.05263  9.60%     -    0s\n",
      "H    0     0                     390.6585729  397.05263  1.64%     -    0s\n",
      "H    0     0                     390.8531771  397.05263  1.59%     -    0s\n",
      "\n",
      "Cutting planes:\n",
      "  Cover: 1\n",
      "  GUB cover: 1\n",
      "\n",
      "Explored 1 nodes (26 simplex iterations) in 0.03 seconds\n",
      "Thread count was 8 (of 8 available processors)\n",
      "\n",
      "Solution count 4: 390.853 390.659 362.286 244.911 \n",
      "\n",
      "Optimal solution found (tolerance 1.00e-04)\n",
      "Best objective 3.908531770833e+02, best bound 3.908531770833e+02, gap 0.0000%\n",
      "Gurobi status= 2\n",
      "Changed value of parameter TimeLimit to 1.0\n",
      "   Prev: inf  Min: 0.0  Max: inf  Default: inf\n",
      "Gurobi Optimizer version 9.1.0 build v9.1.0rc0 (win64)\n",
      "Thread count: 4 physical cores, 8 logical processors, using up to 8 threads\n",
      "Optimize a model with 14 rows, 394 columns and 1598 nonzeros\n",
      "Model fingerprint: 0x415fd1b4\n",
      "Variable types: 0 continuous, 394 integer (0 binary)\n",
      "Coefficient statistics:\n",
      "  Matrix range     [2e-02, 8e+01]\n",
      "  Objective range  [5e+00, 4e+01]\n",
      "  Bounds range     [1e+00, 1e+00]\n",
      "  RHS range        [1e+00, 4e+02]\n",
      "Found heuristic solution: objective 202.3223229\n",
      "Presolve removed 2 rows and 168 columns\n",
      "Presolve time: 0.00s\n",
      "Presolved: 12 rows, 226 columns, 637 nonzeros\n",
      "Found heuristic solution: objective 331.0065104\n",
      "Variable types: 0 continuous, 226 integer (226 binary)\n",
      "\n",
      "Root relaxation: objective 3.932431e+02, 20 iterations, 0.00 seconds\n",
      "\n",
      "    Nodes    |    Current Node    |     Objective Bounds      |     Work\n",
      " Expl Unexpl |  Obj  Depth IntInf | Incumbent    BestBd   Gap | It/Node Time\n",
      "\n",
      "     0     0  393.24312    0    4  331.00651  393.24312  18.8%     -    0s\n",
      "H    0     0                     375.4811563  393.24312  4.73%     -    0s\n",
      "H    0     0                     383.5993125  393.24312  2.51%     -    0s\n",
      "H    0     0                     384.4397500  393.24312  2.29%     -    0s\n",
      "H    0     0                     387.7445312  393.24312  1.42%     -    0s\n",
      "\n",
      "Cutting planes:\n",
      "  Cover: 1\n",
      "\n",
      "Explored 1 nodes (20 simplex iterations) in 0.03 seconds\n",
      "Thread count was 8 (of 8 available processors)\n",
      "\n",
      "Solution count 6: 387.745 384.44 383.599 ... 202.322\n",
      "\n",
      "Optimal solution found (tolerance 1.00e-04)\n",
      "Best objective 3.877445312500e+02, best bound 3.877445312500e+02, gap 0.0000%\n",
      "Gurobi status= 2\n",
      "Changed value of parameter TimeLimit to 1.0\n",
      "   Prev: inf  Min: 0.0  Max: inf  Default: inf\n",
      "Gurobi Optimizer version 9.1.0 build v9.1.0rc0 (win64)\n",
      "Thread count: 4 physical cores, 8 logical processors, using up to 8 threads\n",
      "Optimize a model with 14 rows, 394 columns and 1598 nonzeros\n",
      "Model fingerprint: 0x3b95dbdf\n",
      "Variable types: 0 continuous, 394 integer (0 binary)\n",
      "Coefficient statistics:\n",
      "  Matrix range     [2e-02, 8e+01]\n",
      "  Objective range  [5e+00, 4e+01]\n",
      "  Bounds range     [1e+00, 1e+00]\n",
      "  RHS range        [1e+00, 4e+02]\n",
      "Presolve removed 2 rows and 168 columns\n",
      "Presolve time: 0.00s\n",
      "Presolved: 12 rows, 226 columns, 637 nonzeros\n",
      "Variable types: 0 continuous, 226 integer (226 binary)\n",
      "Found heuristic solution: objective 321.5222500\n",
      "\n",
      "Root relaxation: objective 3.860790e+02, 16 iterations, 0.00 seconds\n",
      "\n",
      "    Nodes    |    Current Node    |     Objective Bounds      |     Work\n",
      " Expl Unexpl |  Obj  Depth IntInf | Incumbent    BestBd   Gap | It/Node Time\n",
      "\n",
      "     0     0  386.07896    0    4  321.52225  386.07896  20.1%     -    0s\n",
      "H    0     0                     381.0209792  386.07896  1.33%     -    0s\n",
      "H    0     0                     381.7321458  386.07896  1.14%     -    0s\n",
      "\n",
      "Cutting planes:\n",
      "  Cover: 1\n",
      "  MIR: 1\n",
      "  StrongCG: 1\n",
      "\n",
      "Explored 1 nodes (16 simplex iterations) in 0.03 seconds\n",
      "Thread count was 8 (of 8 available processors)\n",
      "\n",
      "Solution count 3: 381.732 381.021 321.522 \n",
      "\n",
      "Optimal solution found (tolerance 1.00e-04)\n",
      "Best objective 3.817321458333e+02, best bound 3.817460465635e+02, gap 0.0036%\n",
      "Gurobi status= 2\n",
      "Changed value of parameter TimeLimit to 1.0\n",
      "   Prev: inf  Min: 0.0  Max: inf  Default: inf\n",
      "Gurobi Optimizer version 9.1.0 build v9.1.0rc0 (win64)\n",
      "Thread count: 4 physical cores, 8 logical processors, using up to 8 threads\n",
      "Optimize a model with 14 rows, 394 columns and 1598 nonzeros\n",
      "Model fingerprint: 0xfe147e3e\n",
      "Variable types: 0 continuous, 394 integer (0 binary)\n",
      "Coefficient statistics:\n",
      "  Matrix range     [2e-02, 8e+01]\n",
      "  Objective range  [5e+00, 4e+01]\n",
      "  Bounds range     [1e+00, 1e+00]\n",
      "  RHS range        [1e+00, 4e+02]\n",
      "Presolve removed 2 rows and 168 columns\n",
      "Presolve time: 0.00s\n",
      "Presolved: 12 rows, 226 columns, 641 nonzeros\n",
      "Variable types: 0 continuous, 226 integer (226 binary)\n",
      "Found heuristic solution: objective 325.4873750\n",
      "\n",
      "Root relaxation: objective 3.774914e+02, 25 iterations, 0.00 seconds\n",
      "\n",
      "    Nodes    |    Current Node    |     Objective Bounds      |     Work\n",
      " Expl Unexpl |  Obj  Depth IntInf | Incumbent    BestBd   Gap | It/Node Time\n",
      "\n",
      "     0     0  377.49136    0    4  325.48737  377.49136  16.0%     -    0s\n",
      "H    0     0                     373.0321458  377.49136  1.20%     -    0s\n",
      "\n",
      "Cutting planes:\n",
      "  MIR: 1\n",
      "\n",
      "Explored 1 nodes (25 simplex iterations) in 0.03 seconds\n",
      "Thread count was 8 (of 8 available processors)\n",
      "\n",
      "Solution count 2: 373.032 325.487 \n",
      "\n",
      "Optimal solution found (tolerance 1.00e-04)\n",
      "Best objective 3.730321458333e+02, best bound 3.730321458333e+02, gap 0.0000%\n",
      "Gurobi status= 2\n",
      "Changed value of parameter TimeLimit to 1.0\n",
      "   Prev: inf  Min: 0.0  Max: inf  Default: inf\n",
      "Gurobi Optimizer version 9.1.0 build v9.1.0rc0 (win64)\n",
      "Thread count: 4 physical cores, 8 logical processors, using up to 8 threads\n",
      "Optimize a model with 14 rows, 394 columns and 1598 nonzeros\n",
      "Model fingerprint: 0xa10ac4d0\n",
      "Variable types: 0 continuous, 394 integer (0 binary)\n",
      "Coefficient statistics:\n"
     ]
    },
    {
     "name": "stdout",
     "output_type": "stream",
     "text": [
      "  Matrix range     [2e-02, 8e+01]\n",
      "  Objective range  [5e+00, 4e+01]\n",
      "  Bounds range     [1e+00, 1e+00]\n",
      "  RHS range        [1e+00, 4e+02]\n",
      "Presolve removed 2 rows and 176 columns\n",
      "Presolve time: 0.00s\n",
      "Presolved: 12 rows, 218 columns, 618 nonzeros\n",
      "Variable types: 0 continuous, 218 integer (218 binary)\n",
      "Found heuristic solution: objective 328.4368125\n",
      "\n",
      "Root relaxation: objective 3.661176e+02, 23 iterations, 0.00 seconds\n",
      "\n",
      "    Nodes    |    Current Node    |     Objective Bounds      |     Work\n",
      " Expl Unexpl |  Obj  Depth IntInf | Incumbent    BestBd   Gap | It/Node Time\n",
      "\n",
      "     0     0  366.11761    0    4  328.43681  366.11761  11.5%     -    0s\n",
      "H    0     0                     362.3903854  366.11761  1.03%     -    0s\n",
      "H    0     0                     363.3620104  366.11761  0.76%     -    0s\n",
      "\n",
      "Cutting planes:\n",
      "  Cover: 1\n",
      "  RLT: 1\n",
      "\n",
      "Explored 1 nodes (23 simplex iterations) in 0.03 seconds\n",
      "Thread count was 8 (of 8 available processors)\n",
      "\n",
      "Solution count 3: 363.362 362.39 328.437 \n",
      "\n",
      "Optimal solution found (tolerance 1.00e-04)\n",
      "Best objective 3.633620104167e+02, best bound 3.633620104167e+02, gap 0.0000%\n",
      "Gurobi status= 2\n",
      "Changed value of parameter TimeLimit to 1.0\n",
      "   Prev: inf  Min: 0.0  Max: inf  Default: inf\n",
      "Gurobi Optimizer version 9.1.0 build v9.1.0rc0 (win64)\n",
      "Thread count: 4 physical cores, 8 logical processors, using up to 8 threads\n",
      "Optimize a model with 14 rows, 394 columns and 1598 nonzeros\n",
      "Model fingerprint: 0xa563266f\n",
      "Variable types: 0 continuous, 394 integer (0 binary)\n",
      "Coefficient statistics:\n",
      "  Matrix range     [2e-02, 8e+01]\n",
      "  Objective range  [5e+00, 4e+01]\n",
      "  Bounds range     [1e+00, 1e+00]\n",
      "  RHS range        [1e+00, 4e+02]\n",
      "Found heuristic solution: objective 189.3851979\n",
      "Presolve removed 2 rows and 191 columns\n",
      "Presolve time: 0.00s\n",
      "Presolved: 12 rows, 203 columns, 577 nonzeros\n",
      "Found heuristic solution: objective 316.1395104\n",
      "Variable types: 0 continuous, 203 integer (203 binary)\n",
      "\n",
      "Root relaxation: objective 3.491706e+02, 19 iterations, 0.00 seconds\n",
      "\n",
      "    Nodes    |    Current Node    |     Objective Bounds      |     Work\n",
      " Expl Unexpl |  Obj  Depth IntInf | Incumbent    BestBd   Gap | It/Node Time\n",
      "\n",
      "     0     0  349.17063    0    4  316.13951  349.17063  10.4%     -    0s\n",
      "H    0     0                     345.8625000  349.17063  0.96%     -    0s\n",
      "\n",
      "Cutting planes:\n",
      "  Cover: 1\n",
      "  MIR: 2\n",
      "  StrongCG: 2\n",
      "  RLT: 1\n",
      "\n",
      "Explored 1 nodes (19 simplex iterations) in 0.03 seconds\n",
      "Thread count was 8 (of 8 available processors)\n",
      "\n",
      "Solution count 3: 345.862 316.14 189.385 \n",
      "\n",
      "Optimal solution found (tolerance 1.00e-04)\n",
      "Best objective 3.458625000000e+02, best bound 3.458625000000e+02, gap 0.0000%\n",
      "Gurobi status= 2\n"
     ]
    }
   ],
   "source": [
    "########################### DECISION VARIBLES ################################\n",
    "\n",
    "#Establishing the variables \n",
    "positions = ['PG', 'SG', 'SF', 'PF', 'C']\n",
    "players = range(len(players_POS))\n",
    "\n",
    "I = players\n",
    "J = range(len(positions))\n",
    "\n",
    "\n",
    "X = plp.LpVariable.dicts(name = 'x', indexs=(I), cat=plp.LpBinary)\n",
    "\n",
    "\n",
    "############################# CONSTRAINTS ##################################\n",
    "luxury_taxes = []\n",
    "optimal_solution = []\n",
    "l = [i for i in range(200,-100, -10)]\n",
    "\n",
    "start_time = timer()\n",
    "for i in l:\n",
    "    \n",
    "    #Setting up the problem\n",
    "    prob1 = LpProblem(name = \"basketball_positions\")\n",
    "    prob1.sense = LpMaximize\n",
    "    \n",
    "    #1 - max 15 players\n",
    "    prob1 += lpSum(X[i] for i in I) <= 15\n",
    "\n",
    "    #2 - salary cap \n",
    "    SALARY_CAP = 99.09\n",
    "    luxury_money = i\n",
    "    hard_cap = (luxury_money/1.5) + SALARY_CAP\n",
    "    salary = players_POS['Salary'].tolist()\n",
    "\n",
    "    prob1 += lpSum(X[j]*salary[j] for j in I) <= hard_cap\n",
    "\n",
    "\n",
    "    #3 - only select players if they are undervalued\n",
    "    estimated_salary = players_POS['ES'].tolist()\n",
    "    prob1 += lpSum(X[j]*salary[j] - X[j]*estimated_salary[j] for j in J) <= 0\n",
    "\n",
    "    #4 - position constraints\n",
    "    pointG = players_POS['PG'].tolist()\n",
    "    prob1 += lpSum(X[i]*pointG[i] for i in I) == 1\n",
    "    shootingG = players_POS['SG'].tolist()\n",
    "    prob1 += lpSum(X[i]*shootingG[i] for i in I) == 2\n",
    "    shootingF = players_POS['SF'].tolist()\n",
    "    prob1 += lpSum(X[i]*shootingF[i] for i in I) == 3\n",
    "    pointF = players_POS['PF'].tolist()\n",
    "    prob1 += lpSum(X[i]*pointF[i] for i in I) == 4\n",
    "    center = players_POS['C'].tolist()\n",
    "    prob1 += lpSum(X[i]*center[i] for i in I) == 5\n",
    "\n",
    "    #5 - players must have been in at least the 10th percentile for minutes played \n",
    "    threshold = players_POS['MP'].quantile(0.1) #287 minutes played\n",
    "    minutes_played = players_POS['MP'].tolist()\n",
    "    prob1 += lpSum(X[i]*minutes_played[i] - threshold >= 0 for i in I) #they must have played more minutes then the threshold\n",
    "\n",
    "\n",
    "    #6 - Games started constraint -- NOT SURE IF WE SHOULD REMOVE THIS OR NOT? \n",
    "    total_games_started = 390\n",
    "    games_started = players_POS['GS'].tolist()\n",
    "    prob1 += lpSum(X[i]*games_started[i] for i in I) <= 390\n",
    "\n",
    "\n",
    "    #6 - Starting players constraint\n",
    "    starting_player = players_POS['Start_P'].tolist()\n",
    "    prob1 += lpSum(X[i]*pointG[i]*starting_player[i] for i in I) == 1\n",
    "    prob1 += lpSum(X[i]*shootingG[i]*starting_player[i] for i in I) == 1\n",
    "    prob1 += lpSum(X[i]*shootingF[i]*starting_player[i] for i in I) == 1\n",
    "    prob1 += lpSum(X[i]*pointF[i]*starting_player[i] for i in I) == 1\n",
    "    prob1 += lpSum(X[i]*center[i]*starting_player[i] for i in I) == 1\n",
    "\n",
    "\n",
    "\n",
    "    ############################### OBJECTIVE ###################################\n",
    "\n",
    "    #maximizing the PER and Win shares\n",
    "    PER = players_POS['PER'].tolist()\n",
    "    EW = players_POS['EW'].tolist()\n",
    "    prob1 += lpSum(X[i]*(PER[i]+EW[i]) for i in I)\n",
    "\n",
    "\n",
    "    ##############################\n",
    "    prob1.solve(GUROBI(timeLimit=1))\n",
    "    luxury_taxes.append(i)\n",
    "    optimal_solution.append(value(prob1.objective))\n",
    "    \n",
    "end_time = timer()\n"
   ]
  },
  {
   "cell_type": "code",
   "execution_count": 4,
   "metadata": {},
   "outputs": [
    {
     "name": "stdout",
     "output_type": "stream",
     "text": [
      "Time:3.38699s\n"
     ]
    }
   ],
   "source": [
    "Time_it_Took = round(end_time - start_time,5)\n",
    "print(\"Time:{}s\". format(Time_it_Took))"
   ]
  },
  {
   "cell_type": "code",
   "execution_count": 8,
   "metadata": {},
   "outputs": [
    {
     "data": {
      "application/vnd.plotly.v1+json": {
       "config": {
        "plotlyServerURL": "https://plot.ly"
       },
       "data": [
        {
         "hovertemplate": "luxury tax allowance (millions)=%{x}<br>optimal solution value=%{y}<extra></extra>",
         "legendgroup": "",
         "marker": {
          "color": "#636efa",
          "symbol": "circle"
         },
         "mode": "markers",
         "name": "",
         "orientation": "v",
         "showlegend": false,
         "type": "scatter",
         "x": [
          200,
          190,
          180,
          170,
          160,
          150,
          140,
          130,
          120,
          110,
          100,
          90,
          80,
          70,
          60,
          50,
          40,
          30,
          20,
          10,
          0,
          -10,
          -20,
          -30,
          -40,
          -50,
          -60,
          -70,
          -80,
          -90
         ],
         "xaxis": "x",
         "y": [
          439.82272916666653,
          438.2701770833335,
          438.1118333333361,
          437.861354166668,
          437.861354166668,
          437.861354166668,
          435.92685416666785,
          433.5220729166699,
          433.26263541666987,
          431.32813541666974,
          430.79226041666965,
          427.9771562500033,
          425.88872916667026,
          423.4841666666711,
          420.64206250000314,
          417.701625000004,
          416.6112916666684,
          411.90050000000133,
          411.3646250000013,
          408.8465104166682,
          404.13571875000116,
          403.5998437500011,
          397.6128020833333,
          393.371635416666,
          390.8531770833333,
          387.7445312499997,
          381.73214583333544,
          373.0321458333356,
          363.3620104166687,
          345.86249999999944
         ],
         "yaxis": "y"
        },
        {
         "hovertemplate": "<b>LOWESS trendline</b><br><br>luxury tax allowance (millions)=%{x}<br>optimal solution value=%{y} <b>(trend)</b><extra></extra>",
         "legendgroup": "",
         "marker": {
          "color": "#636efa",
          "symbol": "circle"
         },
         "mode": "lines",
         "name": "",
         "showlegend": false,
         "type": "scatter",
         "x": [
          -90,
          -80,
          -70,
          -60,
          -50,
          -40,
          -30,
          -20,
          -10,
          0,
          10,
          20,
          30,
          40,
          50,
          60,
          70,
          80,
          90,
          100,
          110,
          120,
          130,
          140,
          150,
          160,
          170,
          180,
          190,
          200
         ],
         "xaxis": "x",
         "y": [
          372.00491568192444,
          375.62057168946154,
          379.20398234639964,
          382.75102278601304,
          386.263555345725,
          389.74684153080227,
          393.2055566626499,
          396.6431490466805,
          400.06234238893103,
          403.4622526029707,
          406.5989242985213,
          409.62147032089615,
          412.504677960671,
          415.24009696592384,
          417.82426785304045,
          420.25029743526204,
          422.527151906471,
          424.67212546699346,
          426.68788769626633,
          428.5584570455254,
          430.2775279301599,
          431.6064495367081,
          432.90965008233695,
          434.2026622545946,
          435.48176324765757,
          436.7431301024556,
          437.9829140608804,
          439.1977348002305,
          440.38548812800127,
          441.5460178402901
         ],
         "yaxis": "y"
        }
       ],
       "layout": {
        "legend": {
         "tracegroupgap": 0
        },
        "template": {
         "data": {
          "bar": [
           {
            "error_x": {
             "color": "#2a3f5f"
            },
            "error_y": {
             "color": "#2a3f5f"
            },
            "marker": {
             "line": {
              "color": "#E5ECF6",
              "width": 0.5
             }
            },
            "type": "bar"
           }
          ],
          "barpolar": [
           {
            "marker": {
             "line": {
              "color": "#E5ECF6",
              "width": 0.5
             }
            },
            "type": "barpolar"
           }
          ],
          "carpet": [
           {
            "aaxis": {
             "endlinecolor": "#2a3f5f",
             "gridcolor": "white",
             "linecolor": "white",
             "minorgridcolor": "white",
             "startlinecolor": "#2a3f5f"
            },
            "baxis": {
             "endlinecolor": "#2a3f5f",
             "gridcolor": "white",
             "linecolor": "white",
             "minorgridcolor": "white",
             "startlinecolor": "#2a3f5f"
            },
            "type": "carpet"
           }
          ],
          "choropleth": [
           {
            "colorbar": {
             "outlinewidth": 0,
             "ticks": ""
            },
            "type": "choropleth"
           }
          ],
          "contour": [
           {
            "colorbar": {
             "outlinewidth": 0,
             "ticks": ""
            },
            "colorscale": [
             [
              0,
              "#0d0887"
             ],
             [
              0.1111111111111111,
              "#46039f"
             ],
             [
              0.2222222222222222,
              "#7201a8"
             ],
             [
              0.3333333333333333,
              "#9c179e"
             ],
             [
              0.4444444444444444,
              "#bd3786"
             ],
             [
              0.5555555555555556,
              "#d8576b"
             ],
             [
              0.6666666666666666,
              "#ed7953"
             ],
             [
              0.7777777777777778,
              "#fb9f3a"
             ],
             [
              0.8888888888888888,
              "#fdca26"
             ],
             [
              1,
              "#f0f921"
             ]
            ],
            "type": "contour"
           }
          ],
          "contourcarpet": [
           {
            "colorbar": {
             "outlinewidth": 0,
             "ticks": ""
            },
            "type": "contourcarpet"
           }
          ],
          "heatmap": [
           {
            "colorbar": {
             "outlinewidth": 0,
             "ticks": ""
            },
            "colorscale": [
             [
              0,
              "#0d0887"
             ],
             [
              0.1111111111111111,
              "#46039f"
             ],
             [
              0.2222222222222222,
              "#7201a8"
             ],
             [
              0.3333333333333333,
              "#9c179e"
             ],
             [
              0.4444444444444444,
              "#bd3786"
             ],
             [
              0.5555555555555556,
              "#d8576b"
             ],
             [
              0.6666666666666666,
              "#ed7953"
             ],
             [
              0.7777777777777778,
              "#fb9f3a"
             ],
             [
              0.8888888888888888,
              "#fdca26"
             ],
             [
              1,
              "#f0f921"
             ]
            ],
            "type": "heatmap"
           }
          ],
          "heatmapgl": [
           {
            "colorbar": {
             "outlinewidth": 0,
             "ticks": ""
            },
            "colorscale": [
             [
              0,
              "#0d0887"
             ],
             [
              0.1111111111111111,
              "#46039f"
             ],
             [
              0.2222222222222222,
              "#7201a8"
             ],
             [
              0.3333333333333333,
              "#9c179e"
             ],
             [
              0.4444444444444444,
              "#bd3786"
             ],
             [
              0.5555555555555556,
              "#d8576b"
             ],
             [
              0.6666666666666666,
              "#ed7953"
             ],
             [
              0.7777777777777778,
              "#fb9f3a"
             ],
             [
              0.8888888888888888,
              "#fdca26"
             ],
             [
              1,
              "#f0f921"
             ]
            ],
            "type": "heatmapgl"
           }
          ],
          "histogram": [
           {
            "marker": {
             "colorbar": {
              "outlinewidth": 0,
              "ticks": ""
             }
            },
            "type": "histogram"
           }
          ],
          "histogram2d": [
           {
            "colorbar": {
             "outlinewidth": 0,
             "ticks": ""
            },
            "colorscale": [
             [
              0,
              "#0d0887"
             ],
             [
              0.1111111111111111,
              "#46039f"
             ],
             [
              0.2222222222222222,
              "#7201a8"
             ],
             [
              0.3333333333333333,
              "#9c179e"
             ],
             [
              0.4444444444444444,
              "#bd3786"
             ],
             [
              0.5555555555555556,
              "#d8576b"
             ],
             [
              0.6666666666666666,
              "#ed7953"
             ],
             [
              0.7777777777777778,
              "#fb9f3a"
             ],
             [
              0.8888888888888888,
              "#fdca26"
             ],
             [
              1,
              "#f0f921"
             ]
            ],
            "type": "histogram2d"
           }
          ],
          "histogram2dcontour": [
           {
            "colorbar": {
             "outlinewidth": 0,
             "ticks": ""
            },
            "colorscale": [
             [
              0,
              "#0d0887"
             ],
             [
              0.1111111111111111,
              "#46039f"
             ],
             [
              0.2222222222222222,
              "#7201a8"
             ],
             [
              0.3333333333333333,
              "#9c179e"
             ],
             [
              0.4444444444444444,
              "#bd3786"
             ],
             [
              0.5555555555555556,
              "#d8576b"
             ],
             [
              0.6666666666666666,
              "#ed7953"
             ],
             [
              0.7777777777777778,
              "#fb9f3a"
             ],
             [
              0.8888888888888888,
              "#fdca26"
             ],
             [
              1,
              "#f0f921"
             ]
            ],
            "type": "histogram2dcontour"
           }
          ],
          "mesh3d": [
           {
            "colorbar": {
             "outlinewidth": 0,
             "ticks": ""
            },
            "type": "mesh3d"
           }
          ],
          "parcoords": [
           {
            "line": {
             "colorbar": {
              "outlinewidth": 0,
              "ticks": ""
             }
            },
            "type": "parcoords"
           }
          ],
          "pie": [
           {
            "automargin": true,
            "type": "pie"
           }
          ],
          "scatter": [
           {
            "marker": {
             "colorbar": {
              "outlinewidth": 0,
              "ticks": ""
             }
            },
            "type": "scatter"
           }
          ],
          "scatter3d": [
           {
            "line": {
             "colorbar": {
              "outlinewidth": 0,
              "ticks": ""
             }
            },
            "marker": {
             "colorbar": {
              "outlinewidth": 0,
              "ticks": ""
             }
            },
            "type": "scatter3d"
           }
          ],
          "scattercarpet": [
           {
            "marker": {
             "colorbar": {
              "outlinewidth": 0,
              "ticks": ""
             }
            },
            "type": "scattercarpet"
           }
          ],
          "scattergeo": [
           {
            "marker": {
             "colorbar": {
              "outlinewidth": 0,
              "ticks": ""
             }
            },
            "type": "scattergeo"
           }
          ],
          "scattergl": [
           {
            "marker": {
             "colorbar": {
              "outlinewidth": 0,
              "ticks": ""
             }
            },
            "type": "scattergl"
           }
          ],
          "scattermapbox": [
           {
            "marker": {
             "colorbar": {
              "outlinewidth": 0,
              "ticks": ""
             }
            },
            "type": "scattermapbox"
           }
          ],
          "scatterpolar": [
           {
            "marker": {
             "colorbar": {
              "outlinewidth": 0,
              "ticks": ""
             }
            },
            "type": "scatterpolar"
           }
          ],
          "scatterpolargl": [
           {
            "marker": {
             "colorbar": {
              "outlinewidth": 0,
              "ticks": ""
             }
            },
            "type": "scatterpolargl"
           }
          ],
          "scatterternary": [
           {
            "marker": {
             "colorbar": {
              "outlinewidth": 0,
              "ticks": ""
             }
            },
            "type": "scatterternary"
           }
          ],
          "surface": [
           {
            "colorbar": {
             "outlinewidth": 0,
             "ticks": ""
            },
            "colorscale": [
             [
              0,
              "#0d0887"
             ],
             [
              0.1111111111111111,
              "#46039f"
             ],
             [
              0.2222222222222222,
              "#7201a8"
             ],
             [
              0.3333333333333333,
              "#9c179e"
             ],
             [
              0.4444444444444444,
              "#bd3786"
             ],
             [
              0.5555555555555556,
              "#d8576b"
             ],
             [
              0.6666666666666666,
              "#ed7953"
             ],
             [
              0.7777777777777778,
              "#fb9f3a"
             ],
             [
              0.8888888888888888,
              "#fdca26"
             ],
             [
              1,
              "#f0f921"
             ]
            ],
            "type": "surface"
           }
          ],
          "table": [
           {
            "cells": {
             "fill": {
              "color": "#EBF0F8"
             },
             "line": {
              "color": "white"
             }
            },
            "header": {
             "fill": {
              "color": "#C8D4E3"
             },
             "line": {
              "color": "white"
             }
            },
            "type": "table"
           }
          ]
         },
         "layout": {
          "annotationdefaults": {
           "arrowcolor": "#2a3f5f",
           "arrowhead": 0,
           "arrowwidth": 1
          },
          "coloraxis": {
           "colorbar": {
            "outlinewidth": 0,
            "ticks": ""
           }
          },
          "colorscale": {
           "diverging": [
            [
             0,
             "#8e0152"
            ],
            [
             0.1,
             "#c51b7d"
            ],
            [
             0.2,
             "#de77ae"
            ],
            [
             0.3,
             "#f1b6da"
            ],
            [
             0.4,
             "#fde0ef"
            ],
            [
             0.5,
             "#f7f7f7"
            ],
            [
             0.6,
             "#e6f5d0"
            ],
            [
             0.7,
             "#b8e186"
            ],
            [
             0.8,
             "#7fbc41"
            ],
            [
             0.9,
             "#4d9221"
            ],
            [
             1,
             "#276419"
            ]
           ],
           "sequential": [
            [
             0,
             "#0d0887"
            ],
            [
             0.1111111111111111,
             "#46039f"
            ],
            [
             0.2222222222222222,
             "#7201a8"
            ],
            [
             0.3333333333333333,
             "#9c179e"
            ],
            [
             0.4444444444444444,
             "#bd3786"
            ],
            [
             0.5555555555555556,
             "#d8576b"
            ],
            [
             0.6666666666666666,
             "#ed7953"
            ],
            [
             0.7777777777777778,
             "#fb9f3a"
            ],
            [
             0.8888888888888888,
             "#fdca26"
            ],
            [
             1,
             "#f0f921"
            ]
           ],
           "sequentialminus": [
            [
             0,
             "#0d0887"
            ],
            [
             0.1111111111111111,
             "#46039f"
            ],
            [
             0.2222222222222222,
             "#7201a8"
            ],
            [
             0.3333333333333333,
             "#9c179e"
            ],
            [
             0.4444444444444444,
             "#bd3786"
            ],
            [
             0.5555555555555556,
             "#d8576b"
            ],
            [
             0.6666666666666666,
             "#ed7953"
            ],
            [
             0.7777777777777778,
             "#fb9f3a"
            ],
            [
             0.8888888888888888,
             "#fdca26"
            ],
            [
             1,
             "#f0f921"
            ]
           ]
          },
          "colorway": [
           "#636efa",
           "#EF553B",
           "#00cc96",
           "#ab63fa",
           "#FFA15A",
           "#19d3f3",
           "#FF6692",
           "#B6E880",
           "#FF97FF",
           "#FECB52"
          ],
          "font": {
           "color": "#2a3f5f"
          },
          "geo": {
           "bgcolor": "white",
           "lakecolor": "white",
           "landcolor": "#E5ECF6",
           "showlakes": true,
           "showland": true,
           "subunitcolor": "white"
          },
          "hoverlabel": {
           "align": "left"
          },
          "hovermode": "closest",
          "mapbox": {
           "style": "light"
          },
          "paper_bgcolor": "white",
          "plot_bgcolor": "#E5ECF6",
          "polar": {
           "angularaxis": {
            "gridcolor": "white",
            "linecolor": "white",
            "ticks": ""
           },
           "bgcolor": "#E5ECF6",
           "radialaxis": {
            "gridcolor": "white",
            "linecolor": "white",
            "ticks": ""
           }
          },
          "scene": {
           "xaxis": {
            "backgroundcolor": "#E5ECF6",
            "gridcolor": "white",
            "gridwidth": 2,
            "linecolor": "white",
            "showbackground": true,
            "ticks": "",
            "zerolinecolor": "white"
           },
           "yaxis": {
            "backgroundcolor": "#E5ECF6",
            "gridcolor": "white",
            "gridwidth": 2,
            "linecolor": "white",
            "showbackground": true,
            "ticks": "",
            "zerolinecolor": "white"
           },
           "zaxis": {
            "backgroundcolor": "#E5ECF6",
            "gridcolor": "white",
            "gridwidth": 2,
            "linecolor": "white",
            "showbackground": true,
            "ticks": "",
            "zerolinecolor": "white"
           }
          },
          "shapedefaults": {
           "line": {
            "color": "#2a3f5f"
           }
          },
          "ternary": {
           "aaxis": {
            "gridcolor": "white",
            "linecolor": "white",
            "ticks": ""
           },
           "baxis": {
            "gridcolor": "white",
            "linecolor": "white",
            "ticks": ""
           },
           "bgcolor": "#E5ECF6",
           "caxis": {
            "gridcolor": "white",
            "linecolor": "white",
            "ticks": ""
           }
          },
          "title": {
           "x": 0.05
          },
          "xaxis": {
           "automargin": true,
           "gridcolor": "white",
           "linecolor": "white",
           "ticks": "",
           "title": {
            "standoff": 15
           },
           "zerolinecolor": "white",
           "zerolinewidth": 2
          },
          "yaxis": {
           "automargin": true,
           "gridcolor": "white",
           "linecolor": "white",
           "ticks": "",
           "title": {
            "standoff": 15
           },
           "zerolinecolor": "white",
           "zerolinewidth": 2
          }
         }
        },
        "title": {
         "text": "Luxury tax constraint in pulp model"
        },
        "xaxis": {
         "anchor": "y",
         "domain": [
          0,
          1
         ],
         "title": {
          "text": "luxury tax allowance (millions)"
         }
        },
        "yaxis": {
         "anchor": "x",
         "domain": [
          0,
          1
         ],
         "title": {
          "text": "optimal solution value"
         }
        }
       }
      },
      "text/html": [
       "<div>                            <div id=\"d9f36bcc-46b2-4b57-bfdd-a282748adf2b\" class=\"plotly-graph-div\" style=\"height:525px; width:100%;\"></div>            <script type=\"text/javascript\">                require([\"plotly\"], function(Plotly) {                    window.PLOTLYENV=window.PLOTLYENV || {};                                    if (document.getElementById(\"d9f36bcc-46b2-4b57-bfdd-a282748adf2b\")) {                    Plotly.newPlot(                        \"d9f36bcc-46b2-4b57-bfdd-a282748adf2b\",                        [{\"hovertemplate\": \"luxury tax allowance (millions)=%{x}<br>optimal solution value=%{y}<extra></extra>\", \"legendgroup\": \"\", \"marker\": {\"color\": \"#636efa\", \"symbol\": \"circle\"}, \"mode\": \"markers\", \"name\": \"\", \"orientation\": \"v\", \"showlegend\": false, \"type\": \"scatter\", \"x\": [200, 190, 180, 170, 160, 150, 140, 130, 120, 110, 100, 90, 80, 70, 60, 50, 40, 30, 20, 10, 0, -10, -20, -30, -40, -50, -60, -70, -80, -90], \"xaxis\": \"x\", \"y\": [439.82272916666653, 438.2701770833335, 438.1118333333361, 437.861354166668, 437.861354166668, 437.861354166668, 435.92685416666785, 433.5220729166699, 433.26263541666987, 431.32813541666974, 430.79226041666965, 427.9771562500033, 425.88872916667026, 423.4841666666711, 420.64206250000314, 417.701625000004, 416.6112916666684, 411.90050000000133, 411.3646250000013, 408.8465104166682, 404.13571875000116, 403.5998437500011, 397.6128020833333, 393.371635416666, 390.8531770833333, 387.7445312499997, 381.73214583333544, 373.0321458333356, 363.3620104166687, 345.86249999999944], \"yaxis\": \"y\"}, {\"hovertemplate\": \"<b>LOWESS trendline</b><br><br>luxury tax allowance (millions)=%{x}<br>optimal solution value=%{y} <b>(trend)</b><extra></extra>\", \"legendgroup\": \"\", \"marker\": {\"color\": \"#636efa\", \"symbol\": \"circle\"}, \"mode\": \"lines\", \"name\": \"\", \"showlegend\": false, \"type\": \"scatter\", \"x\": [-90, -80, -70, -60, -50, -40, -30, -20, -10, 0, 10, 20, 30, 40, 50, 60, 70, 80, 90, 100, 110, 120, 130, 140, 150, 160, 170, 180, 190, 200], \"xaxis\": \"x\", \"y\": [372.00491568192444, 375.62057168946154, 379.20398234639964, 382.75102278601304, 386.263555345725, 389.74684153080227, 393.2055566626499, 396.6431490466805, 400.06234238893103, 403.4622526029707, 406.5989242985213, 409.62147032089615, 412.504677960671, 415.24009696592384, 417.82426785304045, 420.25029743526204, 422.527151906471, 424.67212546699346, 426.68788769626633, 428.5584570455254, 430.2775279301599, 431.6064495367081, 432.90965008233695, 434.2026622545946, 435.48176324765757, 436.7431301024556, 437.9829140608804, 439.1977348002305, 440.38548812800127, 441.5460178402901], \"yaxis\": \"y\"}],                        {\"legend\": {\"tracegroupgap\": 0}, \"template\": {\"data\": {\"bar\": [{\"error_x\": {\"color\": \"#2a3f5f\"}, \"error_y\": {\"color\": \"#2a3f5f\"}, \"marker\": {\"line\": {\"color\": \"#E5ECF6\", \"width\": 0.5}}, \"type\": \"bar\"}], \"barpolar\": [{\"marker\": {\"line\": {\"color\": \"#E5ECF6\", \"width\": 0.5}}, \"type\": \"barpolar\"}], \"carpet\": [{\"aaxis\": {\"endlinecolor\": \"#2a3f5f\", \"gridcolor\": \"white\", \"linecolor\": \"white\", \"minorgridcolor\": \"white\", \"startlinecolor\": \"#2a3f5f\"}, \"baxis\": {\"endlinecolor\": \"#2a3f5f\", \"gridcolor\": \"white\", \"linecolor\": \"white\", \"minorgridcolor\": \"white\", \"startlinecolor\": \"#2a3f5f\"}, \"type\": \"carpet\"}], \"choropleth\": [{\"colorbar\": {\"outlinewidth\": 0, \"ticks\": \"\"}, \"type\": \"choropleth\"}], \"contour\": [{\"colorbar\": {\"outlinewidth\": 0, \"ticks\": \"\"}, \"colorscale\": [[0.0, \"#0d0887\"], [0.1111111111111111, \"#46039f\"], [0.2222222222222222, \"#7201a8\"], [0.3333333333333333, \"#9c179e\"], [0.4444444444444444, \"#bd3786\"], [0.5555555555555556, \"#d8576b\"], [0.6666666666666666, \"#ed7953\"], [0.7777777777777778, \"#fb9f3a\"], [0.8888888888888888, \"#fdca26\"], [1.0, \"#f0f921\"]], \"type\": \"contour\"}], \"contourcarpet\": [{\"colorbar\": {\"outlinewidth\": 0, \"ticks\": \"\"}, \"type\": \"contourcarpet\"}], \"heatmap\": [{\"colorbar\": {\"outlinewidth\": 0, \"ticks\": \"\"}, \"colorscale\": [[0.0, \"#0d0887\"], [0.1111111111111111, \"#46039f\"], [0.2222222222222222, \"#7201a8\"], [0.3333333333333333, \"#9c179e\"], [0.4444444444444444, \"#bd3786\"], [0.5555555555555556, \"#d8576b\"], [0.6666666666666666, \"#ed7953\"], [0.7777777777777778, \"#fb9f3a\"], [0.8888888888888888, \"#fdca26\"], [1.0, \"#f0f921\"]], \"type\": \"heatmap\"}], \"heatmapgl\": [{\"colorbar\": {\"outlinewidth\": 0, \"ticks\": \"\"}, \"colorscale\": [[0.0, \"#0d0887\"], [0.1111111111111111, \"#46039f\"], [0.2222222222222222, \"#7201a8\"], [0.3333333333333333, \"#9c179e\"], [0.4444444444444444, \"#bd3786\"], [0.5555555555555556, \"#d8576b\"], [0.6666666666666666, \"#ed7953\"], [0.7777777777777778, \"#fb9f3a\"], [0.8888888888888888, \"#fdca26\"], [1.0, \"#f0f921\"]], \"type\": \"heatmapgl\"}], \"histogram\": [{\"marker\": {\"colorbar\": {\"outlinewidth\": 0, \"ticks\": \"\"}}, \"type\": \"histogram\"}], \"histogram2d\": [{\"colorbar\": {\"outlinewidth\": 0, \"ticks\": \"\"}, \"colorscale\": [[0.0, \"#0d0887\"], [0.1111111111111111, \"#46039f\"], [0.2222222222222222, \"#7201a8\"], [0.3333333333333333, \"#9c179e\"], [0.4444444444444444, \"#bd3786\"], [0.5555555555555556, \"#d8576b\"], [0.6666666666666666, \"#ed7953\"], [0.7777777777777778, \"#fb9f3a\"], [0.8888888888888888, \"#fdca26\"], [1.0, \"#f0f921\"]], \"type\": \"histogram2d\"}], \"histogram2dcontour\": [{\"colorbar\": {\"outlinewidth\": 0, \"ticks\": \"\"}, \"colorscale\": [[0.0, \"#0d0887\"], [0.1111111111111111, \"#46039f\"], [0.2222222222222222, \"#7201a8\"], [0.3333333333333333, \"#9c179e\"], [0.4444444444444444, \"#bd3786\"], [0.5555555555555556, \"#d8576b\"], [0.6666666666666666, \"#ed7953\"], [0.7777777777777778, \"#fb9f3a\"], [0.8888888888888888, \"#fdca26\"], [1.0, \"#f0f921\"]], \"type\": \"histogram2dcontour\"}], \"mesh3d\": [{\"colorbar\": {\"outlinewidth\": 0, \"ticks\": \"\"}, \"type\": \"mesh3d\"}], \"parcoords\": [{\"line\": {\"colorbar\": {\"outlinewidth\": 0, \"ticks\": \"\"}}, \"type\": \"parcoords\"}], \"pie\": [{\"automargin\": true, \"type\": \"pie\"}], \"scatter\": [{\"marker\": {\"colorbar\": {\"outlinewidth\": 0, \"ticks\": \"\"}}, \"type\": \"scatter\"}], \"scatter3d\": [{\"line\": {\"colorbar\": {\"outlinewidth\": 0, \"ticks\": \"\"}}, \"marker\": {\"colorbar\": {\"outlinewidth\": 0, \"ticks\": \"\"}}, \"type\": \"scatter3d\"}], \"scattercarpet\": [{\"marker\": {\"colorbar\": {\"outlinewidth\": 0, \"ticks\": \"\"}}, \"type\": \"scattercarpet\"}], \"scattergeo\": [{\"marker\": {\"colorbar\": {\"outlinewidth\": 0, \"ticks\": \"\"}}, \"type\": \"scattergeo\"}], \"scattergl\": [{\"marker\": {\"colorbar\": {\"outlinewidth\": 0, \"ticks\": \"\"}}, \"type\": \"scattergl\"}], \"scattermapbox\": [{\"marker\": {\"colorbar\": {\"outlinewidth\": 0, \"ticks\": \"\"}}, \"type\": \"scattermapbox\"}], \"scatterpolar\": [{\"marker\": {\"colorbar\": {\"outlinewidth\": 0, \"ticks\": \"\"}}, \"type\": \"scatterpolar\"}], \"scatterpolargl\": [{\"marker\": {\"colorbar\": {\"outlinewidth\": 0, \"ticks\": \"\"}}, \"type\": \"scatterpolargl\"}], \"scatterternary\": [{\"marker\": {\"colorbar\": {\"outlinewidth\": 0, \"ticks\": \"\"}}, \"type\": \"scatterternary\"}], \"surface\": [{\"colorbar\": {\"outlinewidth\": 0, \"ticks\": \"\"}, \"colorscale\": [[0.0, \"#0d0887\"], [0.1111111111111111, \"#46039f\"], [0.2222222222222222, \"#7201a8\"], [0.3333333333333333, \"#9c179e\"], [0.4444444444444444, \"#bd3786\"], [0.5555555555555556, \"#d8576b\"], [0.6666666666666666, \"#ed7953\"], [0.7777777777777778, \"#fb9f3a\"], [0.8888888888888888, \"#fdca26\"], [1.0, \"#f0f921\"]], \"type\": \"surface\"}], \"table\": [{\"cells\": {\"fill\": {\"color\": \"#EBF0F8\"}, \"line\": {\"color\": \"white\"}}, \"header\": {\"fill\": {\"color\": \"#C8D4E3\"}, \"line\": {\"color\": \"white\"}}, \"type\": \"table\"}]}, \"layout\": {\"annotationdefaults\": {\"arrowcolor\": \"#2a3f5f\", \"arrowhead\": 0, \"arrowwidth\": 1}, \"coloraxis\": {\"colorbar\": {\"outlinewidth\": 0, \"ticks\": \"\"}}, \"colorscale\": {\"diverging\": [[0, \"#8e0152\"], [0.1, \"#c51b7d\"], [0.2, \"#de77ae\"], [0.3, \"#f1b6da\"], [0.4, \"#fde0ef\"], [0.5, \"#f7f7f7\"], [0.6, \"#e6f5d0\"], [0.7, \"#b8e186\"], [0.8, \"#7fbc41\"], [0.9, \"#4d9221\"], [1, \"#276419\"]], \"sequential\": [[0.0, \"#0d0887\"], [0.1111111111111111, \"#46039f\"], [0.2222222222222222, \"#7201a8\"], [0.3333333333333333, \"#9c179e\"], [0.4444444444444444, \"#bd3786\"], [0.5555555555555556, \"#d8576b\"], [0.6666666666666666, \"#ed7953\"], [0.7777777777777778, \"#fb9f3a\"], [0.8888888888888888, \"#fdca26\"], [1.0, \"#f0f921\"]], \"sequentialminus\": [[0.0, \"#0d0887\"], [0.1111111111111111, \"#46039f\"], [0.2222222222222222, \"#7201a8\"], [0.3333333333333333, \"#9c179e\"], [0.4444444444444444, \"#bd3786\"], [0.5555555555555556, \"#d8576b\"], [0.6666666666666666, \"#ed7953\"], [0.7777777777777778, \"#fb9f3a\"], [0.8888888888888888, \"#fdca26\"], [1.0, \"#f0f921\"]]}, \"colorway\": [\"#636efa\", \"#EF553B\", \"#00cc96\", \"#ab63fa\", \"#FFA15A\", \"#19d3f3\", \"#FF6692\", \"#B6E880\", \"#FF97FF\", \"#FECB52\"], \"font\": {\"color\": \"#2a3f5f\"}, \"geo\": {\"bgcolor\": \"white\", \"lakecolor\": \"white\", \"landcolor\": \"#E5ECF6\", \"showlakes\": true, \"showland\": true, \"subunitcolor\": \"white\"}, \"hoverlabel\": {\"align\": \"left\"}, \"hovermode\": \"closest\", \"mapbox\": {\"style\": \"light\"}, \"paper_bgcolor\": \"white\", \"plot_bgcolor\": \"#E5ECF6\", \"polar\": {\"angularaxis\": {\"gridcolor\": \"white\", \"linecolor\": \"white\", \"ticks\": \"\"}, \"bgcolor\": \"#E5ECF6\", \"radialaxis\": {\"gridcolor\": \"white\", \"linecolor\": \"white\", \"ticks\": \"\"}}, \"scene\": {\"xaxis\": {\"backgroundcolor\": \"#E5ECF6\", \"gridcolor\": \"white\", \"gridwidth\": 2, \"linecolor\": \"white\", \"showbackground\": true, \"ticks\": \"\", \"zerolinecolor\": \"white\"}, \"yaxis\": {\"backgroundcolor\": \"#E5ECF6\", \"gridcolor\": \"white\", \"gridwidth\": 2, \"linecolor\": \"white\", \"showbackground\": true, \"ticks\": \"\", \"zerolinecolor\": \"white\"}, \"zaxis\": {\"backgroundcolor\": \"#E5ECF6\", \"gridcolor\": \"white\", \"gridwidth\": 2, \"linecolor\": \"white\", \"showbackground\": true, \"ticks\": \"\", \"zerolinecolor\": \"white\"}}, \"shapedefaults\": {\"line\": {\"color\": \"#2a3f5f\"}}, \"ternary\": {\"aaxis\": {\"gridcolor\": \"white\", \"linecolor\": \"white\", \"ticks\": \"\"}, \"baxis\": {\"gridcolor\": \"white\", \"linecolor\": \"white\", \"ticks\": \"\"}, \"bgcolor\": \"#E5ECF6\", \"caxis\": {\"gridcolor\": \"white\", \"linecolor\": \"white\", \"ticks\": \"\"}}, \"title\": {\"x\": 0.05}, \"xaxis\": {\"automargin\": true, \"gridcolor\": \"white\", \"linecolor\": \"white\", \"ticks\": \"\", \"title\": {\"standoff\": 15}, \"zerolinecolor\": \"white\", \"zerolinewidth\": 2}, \"yaxis\": {\"automargin\": true, \"gridcolor\": \"white\", \"linecolor\": \"white\", \"ticks\": \"\", \"title\": {\"standoff\": 15}, \"zerolinecolor\": \"white\", \"zerolinewidth\": 2}}}, \"title\": {\"text\": \"Luxury tax constraint in pulp model\"}, \"xaxis\": {\"anchor\": \"y\", \"domain\": [0.0, 1.0], \"title\": {\"text\": \"luxury tax allowance (millions)\"}}, \"yaxis\": {\"anchor\": \"x\", \"domain\": [0.0, 1.0], \"title\": {\"text\": \"optimal solution value\"}}},                        {\"responsive\": true}                    ).then(function(){\n",
       "                            \n",
       "var gd = document.getElementById('d9f36bcc-46b2-4b57-bfdd-a282748adf2b');\n",
       "var x = new MutationObserver(function (mutations, observer) {{\n",
       "        var display = window.getComputedStyle(gd).display;\n",
       "        if (!display || display === 'none') {{\n",
       "            console.log([gd, 'removed!']);\n",
       "            Plotly.purge(gd);\n",
       "            observer.disconnect();\n",
       "        }}\n",
       "}});\n",
       "\n",
       "// Listen for the removal of the full notebook cells\n",
       "var notebookContainer = gd.closest('#notebook-container');\n",
       "if (notebookContainer) {{\n",
       "    x.observe(notebookContainer, {childList: true});\n",
       "}}\n",
       "\n",
       "// Listen for the clearing of the current output cell\n",
       "var outputEl = gd.closest('.output');\n",
       "if (outputEl) {{\n",
       "    x.observe(outputEl, {childList: true});\n",
       "}}\n",
       "\n",
       "                        })                };                });            </script>        </div>"
      ]
     },
     "metadata": {},
     "output_type": "display_data"
    }
   ],
   "source": [
    "import plotly.express as px\n",
    "\n",
    "df = pd.DataFrame()\n",
    "df['taxes'] = luxury_taxes\n",
    "df['PER_WS'] = optimal_solution\n",
    "\n",
    "\n",
    "#plot of optimal solution as a function of luxury tax allowance\n",
    "px.scatter(df, x = 'taxes', y = 'PER_WS', trendline = 'lowess',\n",
    "          labels={\n",
    "              'taxes' : 'luxury tax allowance (millions)',\n",
    "              'PER_WS' : 'optimal solution value'\n",
    "          },\n",
    "                     title = 'Luxury tax constraint in pulp model')"
   ]
  },
  {
   "cell_type": "code",
   "execution_count": null,
   "metadata": {},
   "outputs": [],
   "source": []
  }
 ],
 "metadata": {
  "kernelspec": {
   "display_name": "Python 3",
   "language": "python",
   "name": "python3"
  },
  "language_info": {
   "codemirror_mode": {
    "name": "ipython",
    "version": 3
   },
   "file_extension": ".py",
   "mimetype": "text/x-python",
   "name": "python",
   "nbconvert_exporter": "python",
   "pygments_lexer": "ipython3",
   "version": "3.7.7"
  }
 },
 "nbformat": 4,
 "nbformat_minor": 4
}
